{
 "cells": [
  {
   "cell_type": "markdown",
   "id": "e216e56d",
   "metadata": {},
   "source": [
    "## Transformer"
   ]
  },
  {
   "cell_type": "markdown",
   "id": "09ae5a9c",
   "metadata": {},
   "source": [
    "Python: 3.9.10"
   ]
  },
  {
   "cell_type": "code",
   "execution_count": null,
   "id": "28941337",
   "metadata": {},
   "outputs": [],
   "source": [
    "# !pip3 install torch\n",
    "# !pip3 install numpy==1.23.5\n",
    "# !pip3 install transformers --no-cache-dir\n",
    "# !pip3 install -q datasets\n",
    "# !pip3 install --upgrade scikit-learn==1.0.2\n",
    "# !pip3 install matplotlib\n",
    "# !pip3 install accelerate -U\n",
    "# !pip3 install seaborn"
   ]
  },
  {
   "cell_type": "code",
   "execution_count": null,
   "id": "3f0443e7",
   "metadata": {},
   "outputs": [],
   "source": [
    "# !pip3 install datasets"
   ]
  },
  {
   "cell_type": "code",
   "execution_count": null,
   "id": "4f7a695f",
   "metadata": {},
   "outputs": [],
   "source": [
    "# !pip3 install ipywidgets"
   ]
  },
  {
   "cell_type": "code",
   "execution_count": null,
   "id": "feff0bf8",
   "metadata": {},
   "outputs": [],
   "source": [
    "# !pip3 install -U \"huggingface_hub[hf_xet]\""
   ]
  },
  {
   "cell_type": "markdown",
   "id": "4b87d5a9",
   "metadata": {},
   "source": [
    "Sanity test: Is AutoTokenizer working correctly?"
   ]
  },
  {
   "cell_type": "code",
   "execution_count": null,
   "id": "e720356a",
   "metadata": {},
   "outputs": [],
   "source": [
    "import numpy\n",
    "from transformers import AutoTokenizer\n",
    "print(\"NumPy version:\", numpy.__version__)\n",
    "tokenizer = AutoTokenizer.from_pretrained(\"distilbert-base-uncased\")"
   ]
  },
  {
   "cell_type": "markdown",
   "id": "af7c027f",
   "metadata": {},
   "source": [
    "Sanity test: GPU detected by torch?"
   ]
  },
  {
   "cell_type": "markdown",
   "id": "eb444d1b",
   "metadata": {},
   "source": [
    "Uninstall PyTorch (CPU-only) and install GPU-enabled PyTorch"
   ]
  },
  {
   "cell_type": "code",
   "execution_count": null,
   "id": "b845da29",
   "metadata": {},
   "outputs": [],
   "source": [
    "# %pip install torch --index-url https://download.pytorch.org/whl/cu118"
   ]
  },
  {
   "cell_type": "code",
   "execution_count": null,
   "id": "7c29a2d3",
   "metadata": {},
   "outputs": [],
   "source": [
    "import torch\n",
    "print(torch.cuda.is_available())       # Should be True\n",
    "print(torch.cuda.device_count())       # Should be > 0\n",
    "print(torch.cuda.get_device_name(0))   # Should show your GPU name\n",
    "print(torch.__version__)                # Confirms the install\n",
    "print(torch.version.cuda)               # Shows the CUDA version used"
   ]
  },
  {
   "cell_type": "markdown",
   "id": "5c4e46f4",
   "metadata": {},
   "source": [
    "### Initial Steps"
   ]
  },
  {
   "cell_type": "code",
   "execution_count": 2,
   "id": "3173c0e4",
   "metadata": {},
   "outputs": [],
   "source": [
    "import torch\n",
    "import numpy as np\n",
    "\n",
    "from transformers import AutoTokenizer, AutoModelForSequenceClassification\n",
    "from transformers import TrainingArguments, Trainer\n",
    "from datasets import Dataset, DatasetDict\n",
    "\n",
    "from sklearn.metrics import classification_report, confusion_matrix"
   ]
  },
  {
   "cell_type": "code",
   "execution_count": 3,
   "id": "bb2760ce",
   "metadata": {},
   "outputs": [
    {
     "name": "stdout",
     "output_type": "stream",
     "text": [
      "cuda\n"
     ]
    }
   ],
   "source": [
    "device = torch.device('cuda' if torch.cuda.is_available() else 'cpu')\n",
    "print(device)"
   ]
  },
  {
   "cell_type": "markdown",
   "id": "8db173dd",
   "metadata": {},
   "source": [
    "Loading the dataset:"
   ]
  },
  {
   "cell_type": "code",
   "execution_count": 4,
   "id": "ee90daa3",
   "metadata": {},
   "outputs": [],
   "source": [
    "from datasets import load_dataset\n",
    "\n",
    "dataset = load_dataset(\"derek-thomas/ScienceQA\")"
   ]
  },
  {
   "cell_type": "code",
   "execution_count": 5,
   "id": "bb89a1e6",
   "metadata": {},
   "outputs": [],
   "source": [
    "import pandas as pd\n",
    "\n",
    "# Function to convert each split\n",
    "def prepare_dataset_for_classification(dataset, split_name, column_to_classify, target_classes=[], data_fields=[], shuffle=True, random_state=None, max_items_per_class=None):\n",
    "    # Load into DataFrame\n",
    "    df = pd.DataFrame(dataset[split_name])\n",
    "\n",
    "     # Filter only rows with target topics\n",
    "    df = df[df[column_to_classify].isin(target_classes)].reset_index(drop=True)\n",
    "\n",
    "     # Optionally limit the number of items per class\n",
    "    if max_items_per_class is not None:\n",
    "        dfs = []\n",
    "        for cls in target_classes:\n",
    "            subset = df[df[column_to_classify] == cls]\n",
    "            sampled = subset.sample(\n",
    "                n=min(len(subset), max_items_per_class),\n",
    "                random_state=random_state\n",
    "            )\n",
    "            dfs.append(sampled)\n",
    "\n",
    "        df = pd.concat(dfs).reset_index(drop=True)\n",
    "\n",
    "    # Shuffle if requested\n",
    "    if shuffle:\n",
    "        df = df.sample(frac=1, random_state=random_state).reset_index(drop=True)\n",
    "\n",
    "    # Handle text combination from selected fields\n",
    "    processed_fields = []\n",
    "    for field in data_fields:\n",
    "        if field == 'choices':\n",
    "            processed = df['choices'].apply(lambda x: \" \".join(x))\n",
    "        elif field == 'answer':\n",
    "            # Get the string value from choices[answer]\n",
    "            def get_answer(row):\n",
    "                try:\n",
    "                    return row['choices'][row['answer']] if isinstance(row['choices'], list) else \"\"\n",
    "                except (IndexError, TypeError):\n",
    "                    return \"\"\n",
    "            processed = df.apply(get_answer, axis=1)\n",
    "        else:\n",
    "            processed = df[field].fillna(\"\")\n",
    "        processed_fields.append(processed)\n",
    "\n",
    "    # Concatenate all fields into a single string per row\n",
    "    data = processed_fields[0]\n",
    "    for pf in processed_fields[1:]:\n",
    "        data = data + \" \" + pf\n",
    "    data = data.tolist()\n",
    "    \n",
    "    # Create label info\n",
    "    target = [target_classes.index(_class_) for _class_ in df[column_to_classify]]\n",
    "    \n",
    "    return {\n",
    "        'data': data,\n",
    "        'target': target,\n",
    "        'target_names': target_classes\n",
    "    }\n",
    "\n",
    "    # data = (df['question'] + ' ' + df['lecture'] + ' ' + df['choices'].apply(lambda x: \" \".join(x)) + ' ' + df['hint'].fillna('')).tolist()"
   ]
  },
  {
   "cell_type": "markdown",
   "id": "e09eace4",
   "metadata": {},
   "source": [
    "### Topic Classification"
   ]
  },
  {
   "cell_type": "markdown",
   "id": "adc0c802",
   "metadata": {},
   "source": [
    "Getting the topics:"
   ]
  },
  {
   "cell_type": "markdown",
   "id": "3ddf6f16",
   "metadata": {},
   "source": [
    "All topics"
   ]
  },
  {
   "cell_type": "code",
   "execution_count": null,
   "id": "23e7e229",
   "metadata": {},
   "outputs": [],
   "source": [
    "# Function to collect unique values from a field\n",
    "def get_unique_values(dataset, field):\n",
    "    return sorted(set(example[field] for example in dataset))\n",
    "\n",
    "train_set = dataset[\"train\"]\n",
    "\n",
    "# Get unique values\n",
    "target_topics = get_unique_values(train_set, \"topic\")\n",
    "\n",
    "# Display them\n",
    "print(\"Topics:\", target_topics)"
   ]
  },
  {
   "cell_type": "code",
   "execution_count": 131,
   "id": "8958be0d",
   "metadata": {},
   "outputs": [],
   "source": [
    "# Define your target topics (e.g., 4 of them)\n",
    "target_topics = ['biology', 'physics', 'geography', 'writing-strategies', 'figurative-language', 'chemistry', 'earth-science']"
   ]
  },
  {
   "cell_type": "code",
   "execution_count": 132,
   "id": "0ef4b2d4",
   "metadata": {},
   "outputs": [],
   "source": [
    "data_fields = ['question', 'answer', 'hint', 'solution', 'lecture']\n",
    "# data_fields = ['question']"
   ]
  },
  {
   "cell_type": "code",
   "execution_count": 135,
   "id": "15ec9f91",
   "metadata": {},
   "outputs": [],
   "source": [
    "# Process each set\n",
    "sets = {\n",
    "    \"train\": prepare_dataset_for_classification(dataset, \"train\", \"topic\", target_topics, data_fields,  shuffle=False, random_state=12, max_items_per_class=300),\n",
    "    \"validation\": prepare_dataset_for_classification(dataset, \"validation\", \"topic\", target_topics, data_fields,  shuffle=False, random_state=12, max_items_per_class=200),\n",
    "    \"test\": prepare_dataset_for_classification(dataset, \"test\", \"topic\", target_topics, data_fields,  shuffle=False, random_state=12, max_items_per_class=300)\n",
    "}"
   ]
  },
  {
   "cell_type": "markdown",
   "id": "a66036ef",
   "metadata": {},
   "source": [
    "Distribution of data across the topics"
   ]
  },
  {
   "cell_type": "code",
   "execution_count": 136,
   "id": "4982b85d",
   "metadata": {},
   "outputs": [
    {
     "data": {
      "image/png": "[encoded data removed]",
      "text/plain": [
       "<Figure size 800x200 with 1 Axes>"
      ]
     },
     "metadata": {},
     "output_type": "display_data"
    },
    {
     "name": "stdout",
     "output_type": "stream",
     "text": [
      "biology: 300\n",
      "physics: 300\n",
      "geography: 300\n",
      "writing-strategies: 300\n",
      "figurative-language: 300\n",
      "chemistry: 300\n",
      "earth-science: 300\n"
     ]
    },
    {
     "data": {
      "image/png": "[encoded data removed]",
      "text/plain": [
       "<Figure size 800x200 with 1 Axes>"
      ]
     },
     "metadata": {},
     "output_type": "display_data"
    },
    {
     "name": "stdout",
     "output_type": "stream",
     "text": [
      "biology: 200\n",
      "physics: 200\n",
      "geography: 200\n",
      "writing-strategies: 200\n",
      "figurative-language: 200\n",
      "chemistry: 200\n",
      "earth-science: 200\n"
     ]
    },
    {
     "data": {
      "image/png": "[encoded data removed]",
      "text/plain": [
       "<Figure size 800x200 with 1 Axes>"
      ]
     },
     "metadata": {},
     "output_type": "display_data"
    },
    {
     "name": "stdout",
     "output_type": "stream",
     "text": [
      "biology: 300\n",
      "physics: 300\n",
      "geography: 300\n",
      "writing-strategies: 300\n",
      "figurative-language: 267\n",
      "chemistry: 213\n",
      "earth-science: 221\n"
     ]
    }
   ],
   "source": [
    "import matplotlib.pyplot as plt\n",
    "from collections import Counter\n",
    "%matplotlib inline\n",
    "\n",
    "def plot_distribution(set_name):\n",
    "    counts = Counter(sets[set_name]['target'])\n",
    "    topic_names = [sets[set_name]['target_names'][i] for i in counts.keys()]\n",
    "\n",
    "    plt.figure(figsize=(8, 2))\n",
    "    plt.barh(topic_names, counts.values(), height=0.3, color=\"#3F5D7D\")\n",
    "    plt.xlim([1, 350])\n",
    "    plt.xlabel('Frequency')\n",
    "    plt.ylabel('Topic')\n",
    "    plt.title(f'Distribution of Topics ({set_name.capitalize()} Set)')\n",
    "    plt.show()\n",
    "\n",
    "    for i in counts.keys():\n",
    "        print(f\"{sets[set_name]['target_names'][i]}: {counts[i]}\")\n",
    "\n",
    "# Plot for all three sets\n",
    "for split in ['train', 'validation', 'test']:\n",
    "    plot_distribution(split)"
   ]
  },
  {
   "cell_type": "markdown",
   "id": "e4ceb9ab",
   "metadata": {},
   "source": [
    "### Creating a model and preprocessing data"
   ]
  },
  {
   "cell_type": "code",
   "execution_count": 137,
   "id": "9de6d3c4",
   "metadata": {},
   "outputs": [],
   "source": [
    "model_name = 'bert-base-uncased'"
   ]
  },
  {
   "cell_type": "code",
   "execution_count": 138,
   "id": "93399949",
   "metadata": {},
   "outputs": [],
   "source": [
    "tokenizer = AutoTokenizer.from_pretrained(model_name)"
   ]
  },
  {
   "cell_type": "code",
   "execution_count": null,
   "id": "d2760deb",
   "metadata": {},
   "outputs": [],
   "source": [
    "model = AutoModelForSequenceClassification.from_pretrained(model_name)"
   ]
  },
  {
   "cell_type": "code",
   "execution_count": 139,
   "id": "c159dc73",
   "metadata": {},
   "outputs": [
    {
     "name": "stderr",
     "output_type": "stream",
     "text": [
      "Some weights of BertForSequenceClassification were not initialized from the model checkpoint at bert-base-uncased and are newly initialized: ['classifier.bias', 'classifier.weight']\n",
      "You should probably TRAIN this model on a down-stream task to be able to use it for predictions and inference.\n"
     ]
    },
    {
     "name": "stdout",
     "output_type": "stream",
     "text": [
      "{'return_dict': True, 'output_hidden_states': False, 'output_attentions': False, 'torchscript': False, 'torch_dtype': 'float32', 'use_bfloat16': False, 'tf_legacy_loss': False, 'pruned_heads': {}, 'tie_word_embeddings': True, 'chunk_size_feed_forward': 0, 'is_encoder_decoder': False, 'is_decoder': False, 'cross_attention_hidden_size': None, 'add_cross_attention': False, 'tie_encoder_decoder': False, 'max_length': 20, 'min_length': 0, 'do_sample': False, 'early_stopping': False, 'num_beams': 1, 'num_beam_groups': 1, 'diversity_penalty': 0.0, 'temperature': 1.0, 'top_k': 50, 'top_p': 1.0, 'typical_p': 1.0, 'repetition_penalty': 1.0, 'length_penalty': 1.0, 'no_repeat_ngram_size': 0, 'encoder_no_repeat_ngram_size': 0, 'bad_words_ids': None, 'num_return_sequences': 1, 'output_scores': False, 'return_dict_in_generate': False, 'forced_bos_token_id': None, 'forced_eos_token_id': None, 'remove_invalid_values': False, 'exponential_decay_length_penalty': None, 'suppress_tokens': None, 'begin_suppress_tokens': None, 'architectures': ['BertForMaskedLM'], 'finetuning_task': None, 'id2label': {0: 'LABEL_0', 1: 'LABEL_1', 2: 'LABEL_2', 3: 'LABEL_3', 4: 'LABEL_4', 5: 'LABEL_5', 6: 'LABEL_6'}, 'label2id': {'LABEL_0': 0, 'LABEL_1': 1, 'LABEL_2': 2, 'LABEL_3': 3, 'LABEL_4': 4, 'LABEL_5': 5, 'LABEL_6': 6}, 'tokenizer_class': None, 'prefix': None, 'bos_token_id': None, 'pad_token_id': 0, 'eos_token_id': None, 'sep_token_id': None, 'decoder_start_token_id': None, 'task_specific_params': None, 'problem_type': None, '_name_or_path': 'bert-base-uncased', '_attn_implementation_autoset': True, 'transformers_version': '4.51.3', 'gradient_checkpointing': False, 'model_type': 'bert', 'vocab_size': 30522, 'hidden_size': 768, 'num_hidden_layers': 12, 'num_attention_heads': 12, 'hidden_act': 'gelu', 'intermediate_size': 3072, 'hidden_dropout_prob': 0.1, 'attention_probs_dropout_prob': 0.1, 'max_position_embeddings': 512, 'type_vocab_size': 2, 'initializer_range': 0.02, 'layer_norm_eps': 1e-12, 'position_embedding_type': 'absolute', 'use_cache': True, 'classifier_dropout': None}\n"
     ]
    }
   ],
   "source": [
    "from transformers import AutoModelForSequenceClassification\n",
    "\n",
    "# config = BertConfig.from_pretrained('bert-base-uncased', force_download=True)\n",
    "model = AutoModelForSequenceClassification.from_pretrained(\n",
    "    \"bert-base-uncased\",\n",
    "    num_labels=len(target_topics),\n",
    "    # force_download=True\n",
    ")\n",
    "# model = AutoModelForSequenceClassification.from_pretrained('bert-base-uncased')\n",
    "\n",
    "print(model.config.to_dict())"
   ]
  },
  {
   "cell_type": "code",
   "execution_count": 140,
   "id": "d87b00bb",
   "metadata": {},
   "outputs": [],
   "source": [
    "model = model.to(device)"
   ]
  },
  {
   "cell_type": "code",
   "execution_count": 141,
   "id": "870fd9e8",
   "metadata": {},
   "outputs": [
    {
     "data": {
      "text/plain": [
       "109487623"
      ]
     },
     "execution_count": 141,
     "metadata": {},
     "output_type": "execute_result"
    }
   ],
   "source": [
    "n_params = sum(param.numel() for param in model.parameters())\n",
    "n_params"
   ]
  },
  {
   "cell_type": "code",
   "execution_count": 142,
   "id": "a6c89127",
   "metadata": {},
   "outputs": [
    {
     "data": {
      "text/plain": [
       "BertConfig {\n",
       "  \"_attn_implementation_autoset\": true,\n",
       "  \"architectures\": [\n",
       "    \"BertForMaskedLM\"\n",
       "  ],\n",
       "  \"attention_probs_dropout_prob\": 0.1,\n",
       "  \"classifier_dropout\": null,\n",
       "  \"gradient_checkpointing\": false,\n",
       "  \"hidden_act\": \"gelu\",\n",
       "  \"hidden_dropout_prob\": 0.1,\n",
       "  \"hidden_size\": 768,\n",
       "  \"id2label\": {\n",
       "    \"0\": \"LABEL_0\",\n",
       "    \"1\": \"LABEL_1\",\n",
       "    \"2\": \"LABEL_2\",\n",
       "    \"3\": \"LABEL_3\",\n",
       "    \"4\": \"LABEL_4\",\n",
       "    \"5\": \"LABEL_5\",\n",
       "    \"6\": \"LABEL_6\"\n",
       "  },\n",
       "  \"initializer_range\": 0.02,\n",
       "  \"intermediate_size\": 3072,\n",
       "  \"label2id\": {\n",
       "    \"LABEL_0\": 0,\n",
       "    \"LABEL_1\": 1,\n",
       "    \"LABEL_2\": 2,\n",
       "    \"LABEL_3\": 3,\n",
       "    \"LABEL_4\": 4,\n",
       "    \"LABEL_5\": 5,\n",
       "    \"LABEL_6\": 6\n",
       "  },\n",
       "  \"layer_norm_eps\": 1e-12,\n",
       "  \"max_position_embeddings\": 512,\n",
       "  \"model_type\": \"bert\",\n",
       "  \"num_attention_heads\": 12,\n",
       "  \"num_hidden_layers\": 12,\n",
       "  \"pad_token_id\": 0,\n",
       "  \"position_embedding_type\": \"absolute\",\n",
       "  \"torch_dtype\": \"float32\",\n",
       "  \"transformers_version\": \"4.51.3\",\n",
       "  \"type_vocab_size\": 2,\n",
       "  \"use_cache\": true,\n",
       "  \"vocab_size\": 30522\n",
       "}"
      ]
     },
     "execution_count": 142,
     "metadata": {},
     "output_type": "execute_result"
    }
   ],
   "source": [
    "model.bert.config"
   ]
  },
  {
   "cell_type": "code",
   "execution_count": 17,
   "id": "2b7a0a45",
   "metadata": {},
   "outputs": [
    {
     "name": "stdout",
     "output_type": "stream",
     "text": [
      "Parameter name: bert.embeddings.word_embeddings.weight\n",
      "Parameter shape: torch.Size([30522, 768])\n",
      "Is trainable: True\n",
      "\n",
      "Parameter name: bert.embeddings.position_embeddings.weight\n",
      "Parameter shape: torch.Size([512, 768])\n",
      "Is trainable: True\n",
      "\n",
      "Parameter name: bert.embeddings.token_type_embeddings.weight\n",
      "Parameter shape: torch.Size([2, 768])\n",
      "Is trainable: True\n",
      "\n",
      "Parameter name: bert.embeddings.LayerNorm.weight\n",
      "Parameter shape: torch.Size([768])\n",
      "Is trainable: True\n",
      "\n",
      "Parameter name: bert.embeddings.LayerNorm.bias\n",
      "Parameter shape: torch.Size([768])\n",
      "Is trainable: True\n",
      "\n",
      "Parameter name: bert.encoder.layer.0.attention.self.query.weight\n",
      "Parameter shape: torch.Size([768, 768])\n",
      "Is trainable: True\n",
      "\n",
      "Parameter name: bert.encoder.layer.0.attention.self.query.bias\n",
      "Parameter shape: torch.Size([768])\n",
      "Is trainable: True\n",
      "\n",
      "Parameter name: bert.encoder.layer.0.attention.self.key.weight\n",
      "Parameter shape: torch.Size([768, 768])\n",
      "Is trainable: True\n",
      "\n",
      "Parameter name: bert.encoder.layer.0.attention.self.key.bias\n",
      "Parameter shape: torch.Size([768])\n",
      "Is trainable: True\n",
      "\n",
      "Parameter name: bert.encoder.layer.0.attention.self.value.weight\n",
      "Parameter shape: torch.Size([768, 768])\n",
      "Is trainable: True\n",
      "\n",
      "Parameter name: bert.encoder.layer.0.attention.self.value.bias\n",
      "Parameter shape: torch.Size([768])\n",
      "Is trainable: True\n",
      "\n",
      "Parameter name: bert.encoder.layer.0.attention.output.dense.weight\n",
      "Parameter shape: torch.Size([768, 768])\n",
      "Is trainable: True\n",
      "\n",
      "Parameter name: bert.encoder.layer.0.attention.output.dense.bias\n",
      "Parameter shape: torch.Size([768])\n",
      "Is trainable: True\n",
      "\n",
      "Parameter name: bert.encoder.layer.0.attention.output.LayerNorm.weight\n",
      "Parameter shape: torch.Size([768])\n",
      "Is trainable: True\n",
      "\n",
      "Parameter name: bert.encoder.layer.0.attention.output.LayerNorm.bias\n",
      "Parameter shape: torch.Size([768])\n",
      "Is trainable: True\n",
      "\n",
      "Parameter name: bert.encoder.layer.0.intermediate.dense.weight\n",
      "Parameter shape: torch.Size([3072, 768])\n",
      "Is trainable: True\n",
      "\n",
      "Parameter name: bert.encoder.layer.0.intermediate.dense.bias\n",
      "Parameter shape: torch.Size([3072])\n",
      "Is trainable: True\n",
      "\n",
      "Parameter name: bert.encoder.layer.0.output.dense.weight\n",
      "Parameter shape: torch.Size([768, 3072])\n",
      "Is trainable: True\n",
      "\n",
      "Parameter name: bert.encoder.layer.0.output.dense.bias\n",
      "Parameter shape: torch.Size([768])\n",
      "Is trainable: True\n",
      "\n",
      "Parameter name: bert.encoder.layer.0.output.LayerNorm.weight\n",
      "Parameter shape: torch.Size([768])\n",
      "Is trainable: True\n",
      "\n",
      "Parameter name: bert.encoder.layer.0.output.LayerNorm.bias\n",
      "Parameter shape: torch.Size([768])\n",
      "Is trainable: True\n",
      "\n",
      "Parameter name: bert.encoder.layer.1.attention.self.query.weight\n",
      "Parameter shape: torch.Size([768, 768])\n",
      "Is trainable: True\n",
      "\n",
      "Parameter name: bert.encoder.layer.1.attention.self.query.bias\n",
      "Parameter shape: torch.Size([768])\n",
      "Is trainable: True\n",
      "\n",
      "Parameter name: bert.encoder.layer.1.attention.self.key.weight\n",
      "Parameter shape: torch.Size([768, 768])\n",
      "Is trainable: True\n",
      "\n",
      "Parameter name: bert.encoder.layer.1.attention.self.key.bias\n",
      "Parameter shape: torch.Size([768])\n",
      "Is trainable: True\n",
      "\n",
      "Parameter name: bert.encoder.layer.1.attention.self.value.weight\n",
      "Parameter shape: torch.Size([768, 768])\n",
      "Is trainable: True\n",
      "\n",
      "Parameter name: bert.encoder.layer.1.attention.self.value.bias\n",
      "Parameter shape: torch.Size([768])\n",
      "Is trainable: True\n",
      "\n",
      "Parameter name: bert.encoder.layer.1.attention.output.dense.weight\n",
      "Parameter shape: torch.Size([768, 768])\n",
      "Is trainable: True\n",
      "\n",
      "Parameter name: bert.encoder.layer.1.attention.output.dense.bias\n",
      "Parameter shape: torch.Size([768])\n",
      "Is trainable: True\n",
      "\n",
      "Parameter name: bert.encoder.layer.1.attention.output.LayerNorm.weight\n",
      "Parameter shape: torch.Size([768])\n",
      "Is trainable: True\n",
      "\n",
      "Parameter name: bert.encoder.layer.1.attention.output.LayerNorm.bias\n",
      "Parameter shape: torch.Size([768])\n",
      "Is trainable: True\n",
      "\n",
      "Parameter name: bert.encoder.layer.1.intermediate.dense.weight\n",
      "Parameter shape: torch.Size([3072, 768])\n",
      "Is trainable: True\n",
      "\n",
      "Parameter name: bert.encoder.layer.1.intermediate.dense.bias\n",
      "Parameter shape: torch.Size([3072])\n",
      "Is trainable: True\n",
      "\n",
      "Parameter name: bert.encoder.layer.1.output.dense.weight\n",
      "Parameter shape: torch.Size([768, 3072])\n",
      "Is trainable: True\n",
      "\n",
      "Parameter name: bert.encoder.layer.1.output.dense.bias\n",
      "Parameter shape: torch.Size([768])\n",
      "Is trainable: True\n",
      "\n",
      "Parameter name: bert.encoder.layer.1.output.LayerNorm.weight\n",
      "Parameter shape: torch.Size([768])\n",
      "Is trainable: True\n",
      "\n",
      "Parameter name: bert.encoder.layer.1.output.LayerNorm.bias\n",
      "Parameter shape: torch.Size([768])\n",
      "Is trainable: True\n",
      "\n",
      "Parameter name: bert.encoder.layer.2.attention.self.query.weight\n",
      "Parameter shape: torch.Size([768, 768])\n",
      "Is trainable: True\n",
      "\n",
      "Parameter name: bert.encoder.layer.2.attention.self.query.bias\n",
      "Parameter shape: torch.Size([768])\n",
      "Is trainable: True\n",
      "\n",
      "Parameter name: bert.encoder.layer.2.attention.self.key.weight\n",
      "Parameter shape: torch.Size([768, 768])\n",
      "Is trainable: True\n",
      "\n",
      "Parameter name: bert.encoder.layer.2.attention.self.key.bias\n",
      "Parameter shape: torch.Size([768])\n",
      "Is trainable: True\n",
      "\n",
      "Parameter name: bert.encoder.layer.2.attention.self.value.weight\n",
      "Parameter shape: torch.Size([768, 768])\n",
      "Is trainable: True\n",
      "\n",
      "Parameter name: bert.encoder.layer.2.attention.self.value.bias\n",
      "Parameter shape: torch.Size([768])\n",
      "Is trainable: True\n",
      "\n",
      "Parameter name: bert.encoder.layer.2.attention.output.dense.weight\n",
      "Parameter shape: torch.Size([768, 768])\n",
      "Is trainable: True\n",
      "\n",
      "Parameter name: bert.encoder.layer.2.attention.output.dense.bias\n",
      "Parameter shape: torch.Size([768])\n",
      "Is trainable: True\n",
      "\n",
      "Parameter name: bert.encoder.layer.2.attention.output.LayerNorm.weight\n",
      "Parameter shape: torch.Size([768])\n",
      "Is trainable: True\n",
      "\n",
      "Parameter name: bert.encoder.layer.2.attention.output.LayerNorm.bias\n",
      "Parameter shape: torch.Size([768])\n",
      "Is trainable: True\n",
      "\n",
      "Parameter name: bert.encoder.layer.2.intermediate.dense.weight\n",
      "Parameter shape: torch.Size([3072, 768])\n",
      "Is trainable: True\n",
      "\n",
      "Parameter name: bert.encoder.layer.2.intermediate.dense.bias\n",
      "Parameter shape: torch.Size([3072])\n",
      "Is trainable: True\n",
      "\n",
      "Parameter name: bert.encoder.layer.2.output.dense.weight\n",
      "Parameter shape: torch.Size([768, 3072])\n",
      "Is trainable: True\n",
      "\n",
      "Parameter name: bert.encoder.layer.2.output.dense.bias\n",
      "Parameter shape: torch.Size([768])\n",
      "Is trainable: True\n",
      "\n",
      "Parameter name: bert.encoder.layer.2.output.LayerNorm.weight\n",
      "Parameter shape: torch.Size([768])\n",
      "Is trainable: True\n",
      "\n",
      "Parameter name: bert.encoder.layer.2.output.LayerNorm.bias\n",
      "Parameter shape: torch.Size([768])\n",
      "Is trainable: True\n",
      "\n",
      "Parameter name: bert.encoder.layer.3.attention.self.query.weight\n",
      "Parameter shape: torch.Size([768, 768])\n",
      "Is trainable: True\n",
      "\n",
      "Parameter name: bert.encoder.layer.3.attention.self.query.bias\n",
      "Parameter shape: torch.Size([768])\n",
      "Is trainable: True\n",
      "\n",
      "Parameter name: bert.encoder.layer.3.attention.self.key.weight\n",
      "Parameter shape: torch.Size([768, 768])\n",
      "Is trainable: True\n",
      "\n",
      "Parameter name: bert.encoder.layer.3.attention.self.key.bias\n",
      "Parameter shape: torch.Size([768])\n",
      "Is trainable: True\n",
      "\n",
      "Parameter name: bert.encoder.layer.3.attention.self.value.weight\n",
      "Parameter shape: torch.Size([768, 768])\n",
      "Is trainable: True\n",
      "\n",
      "Parameter name: bert.encoder.layer.3.attention.self.value.bias\n",
      "Parameter shape: torch.Size([768])\n",
      "Is trainable: True\n",
      "\n",
      "Parameter name: bert.encoder.layer.3.attention.output.dense.weight\n",
      "Parameter shape: torch.Size([768, 768])\n",
      "Is trainable: True\n",
      "\n",
      "Parameter name: bert.encoder.layer.3.attention.output.dense.bias\n",
      "Parameter shape: torch.Size([768])\n",
      "Is trainable: True\n",
      "\n",
      "Parameter name: bert.encoder.layer.3.attention.output.LayerNorm.weight\n",
      "Parameter shape: torch.Size([768])\n",
      "Is trainable: True\n",
      "\n",
      "Parameter name: bert.encoder.layer.3.attention.output.LayerNorm.bias\n",
      "Parameter shape: torch.Size([768])\n",
      "Is trainable: True\n",
      "\n",
      "Parameter name: bert.encoder.layer.3.intermediate.dense.weight\n",
      "Parameter shape: torch.Size([3072, 768])\n",
      "Is trainable: True\n",
      "\n",
      "Parameter name: bert.encoder.layer.3.intermediate.dense.bias\n",
      "Parameter shape: torch.Size([3072])\n",
      "Is trainable: True\n",
      "\n",
      "Parameter name: bert.encoder.layer.3.output.dense.weight\n",
      "Parameter shape: torch.Size([768, 3072])\n",
      "Is trainable: True\n",
      "\n",
      "Parameter name: bert.encoder.layer.3.output.dense.bias\n",
      "Parameter shape: torch.Size([768])\n",
      "Is trainable: True\n",
      "\n",
      "Parameter name: bert.encoder.layer.3.output.LayerNorm.weight\n",
      "Parameter shape: torch.Size([768])\n",
      "Is trainable: True\n",
      "\n",
      "Parameter name: bert.encoder.layer.3.output.LayerNorm.bias\n",
      "Parameter shape: torch.Size([768])\n",
      "Is trainable: True\n",
      "\n",
      "Parameter name: bert.encoder.layer.4.attention.self.query.weight\n",
      "Parameter shape: torch.Size([768, 768])\n",
      "Is trainable: True\n",
      "\n",
      "Parameter name: bert.encoder.layer.4.attention.self.query.bias\n",
      "Parameter shape: torch.Size([768])\n",
      "Is trainable: True\n",
      "\n",
      "Parameter name: bert.encoder.layer.4.attention.self.key.weight\n",
      "Parameter shape: torch.Size([768, 768])\n",
      "Is trainable: True\n",
      "\n",
      "Parameter name: bert.encoder.layer.4.attention.self.key.bias\n",
      "Parameter shape: torch.Size([768])\n",
      "Is trainable: True\n",
      "\n",
      "Parameter name: bert.encoder.layer.4.attention.self.value.weight\n",
      "Parameter shape: torch.Size([768, 768])\n",
      "Is trainable: True\n",
      "\n",
      "Parameter name: bert.encoder.layer.4.attention.self.value.bias\n",
      "Parameter shape: torch.Size([768])\n",
      "Is trainable: True\n",
      "\n",
      "Parameter name: bert.encoder.layer.4.attention.output.dense.weight\n",
      "Parameter shape: torch.Size([768, 768])\n",
      "Is trainable: True\n",
      "\n",
      "Parameter name: bert.encoder.layer.4.attention.output.dense.bias\n",
      "Parameter shape: torch.Size([768])\n",
      "Is trainable: True\n",
      "\n",
      "Parameter name: bert.encoder.layer.4.attention.output.LayerNorm.weight\n",
      "Parameter shape: torch.Size([768])\n",
      "Is trainable: True\n",
      "\n",
      "Parameter name: bert.encoder.layer.4.attention.output.LayerNorm.bias\n",
      "Parameter shape: torch.Size([768])\n",
      "Is trainable: True\n",
      "\n",
      "Parameter name: bert.encoder.layer.4.intermediate.dense.weight\n",
      "Parameter shape: torch.Size([3072, 768])\n",
      "Is trainable: True\n",
      "\n",
      "Parameter name: bert.encoder.layer.4.intermediate.dense.bias\n",
      "Parameter shape: torch.Size([3072])\n",
      "Is trainable: True\n",
      "\n",
      "Parameter name: bert.encoder.layer.4.output.dense.weight\n",
      "Parameter shape: torch.Size([768, 3072])\n",
      "Is trainable: True\n",
      "\n",
      "Parameter name: bert.encoder.layer.4.output.dense.bias\n",
      "Parameter shape: torch.Size([768])\n",
      "Is trainable: True\n",
      "\n",
      "Parameter name: bert.encoder.layer.4.output.LayerNorm.weight\n",
      "Parameter shape: torch.Size([768])\n",
      "Is trainable: True\n",
      "\n",
      "Parameter name: bert.encoder.layer.4.output.LayerNorm.bias\n",
      "Parameter shape: torch.Size([768])\n",
      "Is trainable: True\n",
      "\n",
      "Parameter name: bert.encoder.layer.5.attention.self.query.weight\n",
      "Parameter shape: torch.Size([768, 768])\n",
      "Is trainable: True\n",
      "\n",
      "Parameter name: bert.encoder.layer.5.attention.self.query.bias\n",
      "Parameter shape: torch.Size([768])\n",
      "Is trainable: True\n",
      "\n",
      "Parameter name: bert.encoder.layer.5.attention.self.key.weight\n",
      "Parameter shape: torch.Size([768, 768])\n",
      "Is trainable: True\n",
      "\n",
      "Parameter name: bert.encoder.layer.5.attention.self.key.bias\n",
      "Parameter shape: torch.Size([768])\n",
      "Is trainable: True\n",
      "\n",
      "Parameter name: bert.encoder.layer.5.attention.self.value.weight\n",
      "Parameter shape: torch.Size([768, 768])\n",
      "Is trainable: True\n",
      "\n",
      "Parameter name: bert.encoder.layer.5.attention.self.value.bias\n",
      "Parameter shape: torch.Size([768])\n",
      "Is trainable: True\n",
      "\n",
      "Parameter name: bert.encoder.layer.5.attention.output.dense.weight\n",
      "Parameter shape: torch.Size([768, 768])\n",
      "Is trainable: True\n",
      "\n",
      "Parameter name: bert.encoder.layer.5.attention.output.dense.bias\n",
      "Parameter shape: torch.Size([768])\n",
      "Is trainable: True\n",
      "\n",
      "Parameter name: bert.encoder.layer.5.attention.output.LayerNorm.weight\n",
      "Parameter shape: torch.Size([768])\n",
      "Is trainable: True\n",
      "\n",
      "Parameter name: bert.encoder.layer.5.attention.output.LayerNorm.bias\n",
      "Parameter shape: torch.Size([768])\n",
      "Is trainable: True\n",
      "\n",
      "Parameter name: bert.encoder.layer.5.intermediate.dense.weight\n",
      "Parameter shape: torch.Size([3072, 768])\n",
      "Is trainable: True\n",
      "\n",
      "Parameter name: bert.encoder.layer.5.intermediate.dense.bias\n",
      "Parameter shape: torch.Size([3072])\n",
      "Is trainable: True\n",
      "\n",
      "Parameter name: bert.encoder.layer.5.output.dense.weight\n",
      "Parameter shape: torch.Size([768, 3072])\n",
      "Is trainable: True\n",
      "\n",
      "Parameter name: bert.encoder.layer.5.output.dense.bias\n",
      "Parameter shape: torch.Size([768])\n",
      "Is trainable: True\n",
      "\n",
      "Parameter name: bert.encoder.layer.5.output.LayerNorm.weight\n",
      "Parameter shape: torch.Size([768])\n",
      "Is trainable: True\n",
      "\n",
      "Parameter name: bert.encoder.layer.5.output.LayerNorm.bias\n",
      "Parameter shape: torch.Size([768])\n",
      "Is trainable: True\n",
      "\n",
      "Parameter name: bert.encoder.layer.6.attention.self.query.weight\n",
      "Parameter shape: torch.Size([768, 768])\n",
      "Is trainable: True\n",
      "\n",
      "Parameter name: bert.encoder.layer.6.attention.self.query.bias\n",
      "Parameter shape: torch.Size([768])\n",
      "Is trainable: True\n",
      "\n",
      "Parameter name: bert.encoder.layer.6.attention.self.key.weight\n",
      "Parameter shape: torch.Size([768, 768])\n",
      "Is trainable: True\n",
      "\n",
      "Parameter name: bert.encoder.layer.6.attention.self.key.bias\n",
      "Parameter shape: torch.Size([768])\n",
      "Is trainable: True\n",
      "\n",
      "Parameter name: bert.encoder.layer.6.attention.self.value.weight\n",
      "Parameter shape: torch.Size([768, 768])\n",
      "Is trainable: True\n",
      "\n",
      "Parameter name: bert.encoder.layer.6.attention.self.value.bias\n",
      "Parameter shape: torch.Size([768])\n",
      "Is trainable: True\n",
      "\n",
      "Parameter name: bert.encoder.layer.6.attention.output.dense.weight\n",
      "Parameter shape: torch.Size([768, 768])\n",
      "Is trainable: True\n",
      "\n",
      "Parameter name: bert.encoder.layer.6.attention.output.dense.bias\n",
      "Parameter shape: torch.Size([768])\n",
      "Is trainable: True\n",
      "\n",
      "Parameter name: bert.encoder.layer.6.attention.output.LayerNorm.weight\n",
      "Parameter shape: torch.Size([768])\n",
      "Is trainable: True\n",
      "\n",
      "Parameter name: bert.encoder.layer.6.attention.output.LayerNorm.bias\n",
      "Parameter shape: torch.Size([768])\n",
      "Is trainable: True\n",
      "\n",
      "Parameter name: bert.encoder.layer.6.intermediate.dense.weight\n",
      "Parameter shape: torch.Size([3072, 768])\n",
      "Is trainable: True\n",
      "\n",
      "Parameter name: bert.encoder.layer.6.intermediate.dense.bias\n",
      "Parameter shape: torch.Size([3072])\n",
      "Is trainable: True\n",
      "\n",
      "Parameter name: bert.encoder.layer.6.output.dense.weight\n",
      "Parameter shape: torch.Size([768, 3072])\n",
      "Is trainable: True\n",
      "\n",
      "Parameter name: bert.encoder.layer.6.output.dense.bias\n",
      "Parameter shape: torch.Size([768])\n",
      "Is trainable: True\n",
      "\n",
      "Parameter name: bert.encoder.layer.6.output.LayerNorm.weight\n",
      "Parameter shape: torch.Size([768])\n",
      "Is trainable: True\n",
      "\n",
      "Parameter name: bert.encoder.layer.6.output.LayerNorm.bias\n",
      "Parameter shape: torch.Size([768])\n",
      "Is trainable: True\n",
      "\n",
      "Parameter name: bert.encoder.layer.7.attention.self.query.weight\n",
      "Parameter shape: torch.Size([768, 768])\n",
      "Is trainable: True\n",
      "\n",
      "Parameter name: bert.encoder.layer.7.attention.self.query.bias\n",
      "Parameter shape: torch.Size([768])\n",
      "Is trainable: True\n",
      "\n",
      "Parameter name: bert.encoder.layer.7.attention.self.key.weight\n",
      "Parameter shape: torch.Size([768, 768])\n",
      "Is trainable: True\n",
      "\n",
      "Parameter name: bert.encoder.layer.7.attention.self.key.bias\n",
      "Parameter shape: torch.Size([768])\n",
      "Is trainable: True\n",
      "\n",
      "Parameter name: bert.encoder.layer.7.attention.self.value.weight\n",
      "Parameter shape: torch.Size([768, 768])\n",
      "Is trainable: True\n",
      "\n",
      "Parameter name: bert.encoder.layer.7.attention.self.value.bias\n",
      "Parameter shape: torch.Size([768])\n",
      "Is trainable: True\n",
      "\n",
      "Parameter name: bert.encoder.layer.7.attention.output.dense.weight\n",
      "Parameter shape: torch.Size([768, 768])\n",
      "Is trainable: True\n",
      "\n",
      "Parameter name: bert.encoder.layer.7.attention.output.dense.bias\n",
      "Parameter shape: torch.Size([768])\n",
      "Is trainable: True\n",
      "\n",
      "Parameter name: bert.encoder.layer.7.attention.output.LayerNorm.weight\n",
      "Parameter shape: torch.Size([768])\n",
      "Is trainable: True\n",
      "\n",
      "Parameter name: bert.encoder.layer.7.attention.output.LayerNorm.bias\n",
      "Parameter shape: torch.Size([768])\n",
      "Is trainable: True\n",
      "\n",
      "Parameter name: bert.encoder.layer.7.intermediate.dense.weight\n",
      "Parameter shape: torch.Size([3072, 768])\n",
      "Is trainable: True\n",
      "\n",
      "Parameter name: bert.encoder.layer.7.intermediate.dense.bias\n",
      "Parameter shape: torch.Size([3072])\n",
      "Is trainable: True\n",
      "\n",
      "Parameter name: bert.encoder.layer.7.output.dense.weight\n",
      "Parameter shape: torch.Size([768, 3072])\n",
      "Is trainable: True\n",
      "\n",
      "Parameter name: bert.encoder.layer.7.output.dense.bias\n",
      "Parameter shape: torch.Size([768])\n",
      "Is trainable: True\n",
      "\n",
      "Parameter name: bert.encoder.layer.7.output.LayerNorm.weight\n",
      "Parameter shape: torch.Size([768])\n",
      "Is trainable: True\n",
      "\n",
      "Parameter name: bert.encoder.layer.7.output.LayerNorm.bias\n",
      "Parameter shape: torch.Size([768])\n",
      "Is trainable: True\n",
      "\n",
      "Parameter name: bert.encoder.layer.8.attention.self.query.weight\n",
      "Parameter shape: torch.Size([768, 768])\n",
      "Is trainable: True\n",
      "\n",
      "Parameter name: bert.encoder.layer.8.attention.self.query.bias\n",
      "Parameter shape: torch.Size([768])\n",
      "Is trainable: True\n",
      "\n",
      "Parameter name: bert.encoder.layer.8.attention.self.key.weight\n",
      "Parameter shape: torch.Size([768, 768])\n",
      "Is trainable: True\n",
      "\n",
      "Parameter name: bert.encoder.layer.8.attention.self.key.bias\n",
      "Parameter shape: torch.Size([768])\n",
      "Is trainable: True\n",
      "\n",
      "Parameter name: bert.encoder.layer.8.attention.self.value.weight\n",
      "Parameter shape: torch.Size([768, 768])\n",
      "Is trainable: True\n",
      "\n",
      "Parameter name: bert.encoder.layer.8.attention.self.value.bias\n",
      "Parameter shape: torch.Size([768])\n",
      "Is trainable: True\n",
      "\n",
      "Parameter name: bert.encoder.layer.8.attention.output.dense.weight\n",
      "Parameter shape: torch.Size([768, 768])\n",
      "Is trainable: True\n",
      "\n",
      "Parameter name: bert.encoder.layer.8.attention.output.dense.bias\n",
      "Parameter shape: torch.Size([768])\n",
      "Is trainable: True\n",
      "\n",
      "Parameter name: bert.encoder.layer.8.attention.output.LayerNorm.weight\n",
      "Parameter shape: torch.Size([768])\n",
      "Is trainable: True\n",
      "\n",
      "Parameter name: bert.encoder.layer.8.attention.output.LayerNorm.bias\n",
      "Parameter shape: torch.Size([768])\n",
      "Is trainable: True\n",
      "\n",
      "Parameter name: bert.encoder.layer.8.intermediate.dense.weight\n",
      "Parameter shape: torch.Size([3072, 768])\n",
      "Is trainable: True\n",
      "\n",
      "Parameter name: bert.encoder.layer.8.intermediate.dense.bias\n",
      "Parameter shape: torch.Size([3072])\n",
      "Is trainable: True\n",
      "\n",
      "Parameter name: bert.encoder.layer.8.output.dense.weight\n",
      "Parameter shape: torch.Size([768, 3072])\n",
      "Is trainable: True\n",
      "\n",
      "Parameter name: bert.encoder.layer.8.output.dense.bias\n",
      "Parameter shape: torch.Size([768])\n",
      "Is trainable: True\n",
      "\n",
      "Parameter name: bert.encoder.layer.8.output.LayerNorm.weight\n",
      "Parameter shape: torch.Size([768])\n",
      "Is trainable: True\n",
      "\n",
      "Parameter name: bert.encoder.layer.8.output.LayerNorm.bias\n",
      "Parameter shape: torch.Size([768])\n",
      "Is trainable: True\n",
      "\n",
      "Parameter name: bert.encoder.layer.9.attention.self.query.weight\n",
      "Parameter shape: torch.Size([768, 768])\n",
      "Is trainable: True\n",
      "\n",
      "Parameter name: bert.encoder.layer.9.attention.self.query.bias\n",
      "Parameter shape: torch.Size([768])\n",
      "Is trainable: True\n",
      "\n",
      "Parameter name: bert.encoder.layer.9.attention.self.key.weight\n",
      "Parameter shape: torch.Size([768, 768])\n",
      "Is trainable: True\n",
      "\n",
      "Parameter name: bert.encoder.layer.9.attention.self.key.bias\n",
      "Parameter shape: torch.Size([768])\n",
      "Is trainable: True\n",
      "\n",
      "Parameter name: bert.encoder.layer.9.attention.self.value.weight\n",
      "Parameter shape: torch.Size([768, 768])\n",
      "Is trainable: True\n",
      "\n",
      "Parameter name: bert.encoder.layer.9.attention.self.value.bias\n",
      "Parameter shape: torch.Size([768])\n",
      "Is trainable: True\n",
      "\n",
      "Parameter name: bert.encoder.layer.9.attention.output.dense.weight\n",
      "Parameter shape: torch.Size([768, 768])\n",
      "Is trainable: True\n",
      "\n",
      "Parameter name: bert.encoder.layer.9.attention.output.dense.bias\n",
      "Parameter shape: torch.Size([768])\n",
      "Is trainable: True\n",
      "\n",
      "Parameter name: bert.encoder.layer.9.attention.output.LayerNorm.weight\n",
      "Parameter shape: torch.Size([768])\n",
      "Is trainable: True\n",
      "\n",
      "Parameter name: bert.encoder.layer.9.attention.output.LayerNorm.bias\n",
      "Parameter shape: torch.Size([768])\n",
      "Is trainable: True\n",
      "\n",
      "Parameter name: bert.encoder.layer.9.intermediate.dense.weight\n",
      "Parameter shape: torch.Size([3072, 768])\n",
      "Is trainable: True\n",
      "\n",
      "Parameter name: bert.encoder.layer.9.intermediate.dense.bias\n",
      "Parameter shape: torch.Size([3072])\n",
      "Is trainable: True\n",
      "\n",
      "Parameter name: bert.encoder.layer.9.output.dense.weight\n",
      "Parameter shape: torch.Size([768, 3072])\n",
      "Is trainable: True\n",
      "\n",
      "Parameter name: bert.encoder.layer.9.output.dense.bias\n",
      "Parameter shape: torch.Size([768])\n",
      "Is trainable: True\n",
      "\n",
      "Parameter name: bert.encoder.layer.9.output.LayerNorm.weight\n",
      "Parameter shape: torch.Size([768])\n",
      "Is trainable: True\n",
      "\n",
      "Parameter name: bert.encoder.layer.9.output.LayerNorm.bias\n",
      "Parameter shape: torch.Size([768])\n",
      "Is trainable: True\n",
      "\n",
      "Parameter name: bert.encoder.layer.10.attention.self.query.weight\n",
      "Parameter shape: torch.Size([768, 768])\n",
      "Is trainable: True\n",
      "\n",
      "Parameter name: bert.encoder.layer.10.attention.self.query.bias\n",
      "Parameter shape: torch.Size([768])\n",
      "Is trainable: True\n",
      "\n",
      "Parameter name: bert.encoder.layer.10.attention.self.key.weight\n",
      "Parameter shape: torch.Size([768, 768])\n",
      "Is trainable: True\n",
      "\n",
      "Parameter name: bert.encoder.layer.10.attention.self.key.bias\n",
      "Parameter shape: torch.Size([768])\n",
      "Is trainable: True\n",
      "\n",
      "Parameter name: bert.encoder.layer.10.attention.self.value.weight\n",
      "Parameter shape: torch.Size([768, 768])\n",
      "Is trainable: True\n",
      "\n",
      "Parameter name: bert.encoder.layer.10.attention.self.value.bias\n",
      "Parameter shape: torch.Size([768])\n",
      "Is trainable: True\n",
      "\n",
      "Parameter name: bert.encoder.layer.10.attention.output.dense.weight\n",
      "Parameter shape: torch.Size([768, 768])\n",
      "Is trainable: True\n",
      "\n",
      "Parameter name: bert.encoder.layer.10.attention.output.dense.bias\n",
      "Parameter shape: torch.Size([768])\n",
      "Is trainable: True\n",
      "\n",
      "Parameter name: bert.encoder.layer.10.attention.output.LayerNorm.weight\n",
      "Parameter shape: torch.Size([768])\n",
      "Is trainable: True\n",
      "\n",
      "Parameter name: bert.encoder.layer.10.attention.output.LayerNorm.bias\n",
      "Parameter shape: torch.Size([768])\n",
      "Is trainable: True\n",
      "\n",
      "Parameter name: bert.encoder.layer.10.intermediate.dense.weight\n",
      "Parameter shape: torch.Size([3072, 768])\n",
      "Is trainable: True\n",
      "\n",
      "Parameter name: bert.encoder.layer.10.intermediate.dense.bias\n",
      "Parameter shape: torch.Size([3072])\n",
      "Is trainable: True\n",
      "\n",
      "Parameter name: bert.encoder.layer.10.output.dense.weight\n",
      "Parameter shape: torch.Size([768, 3072])\n",
      "Is trainable: True\n",
      "\n",
      "Parameter name: bert.encoder.layer.10.output.dense.bias\n",
      "Parameter shape: torch.Size([768])\n",
      "Is trainable: True\n",
      "\n",
      "Parameter name: bert.encoder.layer.10.output.LayerNorm.weight\n",
      "Parameter shape: torch.Size([768])\n",
      "Is trainable: True\n",
      "\n",
      "Parameter name: bert.encoder.layer.10.output.LayerNorm.bias\n",
      "Parameter shape: torch.Size([768])\n",
      "Is trainable: True\n",
      "\n",
      "Parameter name: bert.encoder.layer.11.attention.self.query.weight\n",
      "Parameter shape: torch.Size([768, 768])\n",
      "Is trainable: True\n",
      "\n",
      "Parameter name: bert.encoder.layer.11.attention.self.query.bias\n",
      "Parameter shape: torch.Size([768])\n",
      "Is trainable: True\n",
      "\n",
      "Parameter name: bert.encoder.layer.11.attention.self.key.weight\n",
      "Parameter shape: torch.Size([768, 768])\n",
      "Is trainable: True\n",
      "\n",
      "Parameter name: bert.encoder.layer.11.attention.self.key.bias\n",
      "Parameter shape: torch.Size([768])\n",
      "Is trainable: True\n",
      "\n",
      "Parameter name: bert.encoder.layer.11.attention.self.value.weight\n",
      "Parameter shape: torch.Size([768, 768])\n",
      "Is trainable: True\n",
      "\n",
      "Parameter name: bert.encoder.layer.11.attention.self.value.bias\n",
      "Parameter shape: torch.Size([768])\n",
      "Is trainable: True\n",
      "\n",
      "Parameter name: bert.encoder.layer.11.attention.output.dense.weight\n",
      "Parameter shape: torch.Size([768, 768])\n",
      "Is trainable: True\n",
      "\n",
      "Parameter name: bert.encoder.layer.11.attention.output.dense.bias\n",
      "Parameter shape: torch.Size([768])\n",
      "Is trainable: True\n",
      "\n",
      "Parameter name: bert.encoder.layer.11.attention.output.LayerNorm.weight\n",
      "Parameter shape: torch.Size([768])\n",
      "Is trainable: True\n",
      "\n",
      "Parameter name: bert.encoder.layer.11.attention.output.LayerNorm.bias\n",
      "Parameter shape: torch.Size([768])\n",
      "Is trainable: True\n",
      "\n",
      "Parameter name: bert.encoder.layer.11.intermediate.dense.weight\n",
      "Parameter shape: torch.Size([3072, 768])\n",
      "Is trainable: True\n",
      "\n",
      "Parameter name: bert.encoder.layer.11.intermediate.dense.bias\n",
      "Parameter shape: torch.Size([3072])\n",
      "Is trainable: True\n",
      "\n",
      "Parameter name: bert.encoder.layer.11.output.dense.weight\n",
      "Parameter shape: torch.Size([768, 3072])\n",
      "Is trainable: True\n",
      "\n",
      "Parameter name: bert.encoder.layer.11.output.dense.bias\n",
      "Parameter shape: torch.Size([768])\n",
      "Is trainable: True\n",
      "\n",
      "Parameter name: bert.encoder.layer.11.output.LayerNorm.weight\n",
      "Parameter shape: torch.Size([768])\n",
      "Is trainable: True\n",
      "\n",
      "Parameter name: bert.encoder.layer.11.output.LayerNorm.bias\n",
      "Parameter shape: torch.Size([768])\n",
      "Is trainable: True\n",
      "\n",
      "Parameter name: bert.pooler.dense.weight\n",
      "Parameter shape: torch.Size([768, 768])\n",
      "Is trainable: True\n",
      "\n",
      "Parameter name: bert.pooler.dense.bias\n",
      "Parameter shape: torch.Size([768])\n",
      "Is trainable: True\n",
      "\n",
      "Parameter name: classifier.weight\n",
      "Parameter shape: torch.Size([7, 768])\n",
      "Is trainable: True\n",
      "\n",
      "Parameter name: classifier.bias\n",
      "Parameter shape: torch.Size([7])\n",
      "Is trainable: True\n",
      "\n"
     ]
    }
   ],
   "source": [
    "for name, param in model.named_parameters():\n",
    "    print(f\"Parameter name: {name}\")\n",
    "    print(f\"Parameter shape: {param.size()}\")\n",
    "    print(f\"Is trainable: {param.requires_grad}\")\n",
    "    print()"
   ]
  },
  {
   "cell_type": "code",
   "execution_count": 18,
   "id": "292c6bde",
   "metadata": {},
   "outputs": [
    {
     "name": "stdout",
     "output_type": "stream",
     "text": [
      "vocabulary size:  30522\n"
     ]
    }
   ],
   "source": [
    "print(\"vocabulary size: \", len(tokenizer.vocab))"
   ]
  },
  {
   "cell_type": "code",
   "execution_count": 19,
   "id": "8fdeb6e7",
   "metadata": {},
   "outputs": [
    {
     "name": "stdout",
     "output_type": "stream",
     "text": [
      "input text: I always wondered what those Transformer models were doing to my text. Here is a OutOfVocabWord.\n",
      "tokenized:   ['[CLS]', 'i', 'always', 'wondered', 'what', 'those', 'transform', '##er', 'models', 'were', 'doing', 'to', 'my', 'text', '.', 'here', 'is', 'a', 'out', '##of', '##vo', '##ca', '##b', '##word', '.', '[SEP]']\n"
     ]
    }
   ],
   "source": [
    "example_text = \"I always wondered what those Transformer models were doing to my text. Here is a OutOfVocabWord.\"\n",
    "encoded_text = tokenizer(example_text).input_ids\n",
    "vocab_terms = list(tokenizer.vocab.keys())\n",
    "vocab_index = list(tokenizer.vocab.values())\n",
    "print(\"input text: \"+example_text)\n",
    "print(\"tokenized:  \", [vocab_terms[vocab_index.index(i)] for i in encoded_text])"
   ]
  },
  {
   "cell_type": "code",
   "execution_count": 143,
   "id": "838fe5fd",
   "metadata": {},
   "outputs": [],
   "source": [
    "train_data = [{'text': txt, 'label': lbl} for txt, lbl in zip(sets['train']['data'], sets['train']['target'])]\n",
    "validation_data = [{'text': txt, 'label': lbl} for txt, lbl in zip(sets['validation']['data'], sets['validation']['target'])]\n",
    "test_data = [{'text': txt, 'label': lbl} for txt, lbl in zip(sets['test']['data'], sets['test']['target'])]"
   ]
  },
  {
   "cell_type": "code",
   "execution_count": 144,
   "id": "64a1a7e0",
   "metadata": {},
   "outputs": [],
   "source": [
    "train_data = Dataset.from_list(train_data)\n",
    "validation_data = Dataset.from_list(validation_data)\n",
    "test_data = Dataset.from_list(test_data)"
   ]
  },
  {
   "cell_type": "code",
   "execution_count": 145,
   "id": "92f8b282",
   "metadata": {},
   "outputs": [],
   "source": [
    "data = DatasetDict()\n",
    "data['train'] = train_data\n",
    "data['validation'] = validation_data\n",
    "data['test'] = test_data"
   ]
  },
  {
   "cell_type": "code",
   "execution_count": 146,
   "id": "7bf6221b",
   "metadata": {},
   "outputs": [
    {
     "data": {
      "application/vnd.jupyter.widget-view+json": {
       "model_id": "affd5db6f9cd43f0bfbec0459d619a46",
       "version_major": 2,
       "version_minor": 0
      },
      "text/plain": [
       "Map:   0%|          | 0/2100 [00:00<?, ? examples/s]"
      ]
     },
     "metadata": {},
     "output_type": "display_data"
    },
    {
     "data": {
      "application/vnd.jupyter.widget-view+json": {
       "model_id": "452eea2eb685406988cf2b07d5888bcd",
       "version_major": 2,
       "version_minor": 0
      },
      "text/plain": [
       "Map:   0%|          | 0/1400 [00:00<?, ? examples/s]"
      ]
     },
     "metadata": {},
     "output_type": "display_data"
    },
    {
     "data": {
      "application/vnd.jupyter.widget-view+json": {
       "model_id": "f17e82f1cc7b423f9c2696709fb7c711",
       "version_major": 2,
       "version_minor": 0
      },
      "text/plain": [
       "Map:   0%|          | 0/1901 [00:00<?, ? examples/s]"
      ]
     },
     "metadata": {},
     "output_type": "display_data"
    }
   ],
   "source": [
    "def tokenize_function(examples):\n",
    "    return tokenizer(examples[\"text\"], padding=True, truncation=True,)\n",
    "\n",
    "tokenized_data = data.map(tokenize_function, batched=True)"
   ]
  },
  {
   "cell_type": "code",
   "execution_count": 25,
   "id": "8f3126d3",
   "metadata": {},
   "outputs": [
    {
     "data": {
      "text/plain": [
       "\"Based on this information, what is Fang's phenotype for the coat pattern trait?\""
      ]
     },
     "execution_count": 25,
     "metadata": {},
     "output_type": "execute_result"
    }
   ],
   "source": [
    "sets['train']['data'][0]"
   ]
  },
  {
   "cell_type": "code",
   "execution_count": 26,
   "id": "06c146f5",
   "metadata": {},
   "outputs": [
    {
     "data": {
      "text/plain": [
       "dict_keys(['text', 'label', 'input_ids', 'token_type_ids', 'attention_mask'])"
      ]
     },
     "execution_count": 26,
     "metadata": {},
     "output_type": "execute_result"
    }
   ],
   "source": [
    "tokenized_data['train'][0].keys()"
   ]
  },
  {
   "cell_type": "code",
   "execution_count": 27,
   "id": "028a803f",
   "metadata": {},
   "outputs": [
    {
     "name": "stdout",
     "output_type": "stream",
     "text": [
      "[101, 2241, 2006, 2023, 2592, 1010, 2054, 2003, 15197, 1005, 1055, 6887, 16515, 13874, 2005, 1996, 5435, 5418, 18275, 1029, 102, 0, 0, 0, 0, 0, 0, 0, 0, 0, 0, 0, 0, 0, 0, 0, 0, 0, 0, 0, 0, 0, 0, 0, 0, 0, 0, 0, 0, 0, 0, 0, 0, 0, 0, 0, 0, 0, 0, 0, 0, 0, 0, 0, 0, 0, 0, 0, 0, 0, 0, 0, 0, 0, 0, 0, 0, 0, 0, 0, 0, 0, 0, 0, 0, 0, 0, 0, 0, 0, 0, 0, 0, 0, 0, 0, 0, 0, 0, 0, 0, 0, 0, 0, 0, 0, 0, 0, 0, 0, 0, 0, 0, 0, 0, 0, 0, 0, 0, 0, 0, 0, 0, 0, 0, 0, 0, 0, 0, 0, 0, 0, 0, 0, 0, 0, 0, 0, 0, 0, 0, 0, 0]\n"
     ]
    }
   ],
   "source": [
    "print(tokenized_data['train'][0]['input_ids'])"
   ]
  },
  {
   "cell_type": "code",
   "execution_count": 28,
   "id": "54e5fe0f",
   "metadata": {},
   "outputs": [
    {
     "data": {
      "text/plain": [
       "143"
      ]
     },
     "execution_count": 28,
     "metadata": {},
     "output_type": "execute_result"
    }
   ],
   "source": [
    "len(tokenized_data['train'][0]['input_ids'])"
   ]
  },
  {
   "cell_type": "code",
   "execution_count": 29,
   "id": "ad23785a",
   "metadata": {},
   "outputs": [
    {
     "name": "stdout",
     "output_type": "stream",
     "text": [
      "0\n"
     ]
    }
   ],
   "source": [
    "print(tokenized_data['train'][0]['label'])"
   ]
  },
  {
   "cell_type": "markdown",
   "id": "afd6921c",
   "metadata": {},
   "source": [
    "### Training the model"
   ]
  },
  {
   "cell_type": "code",
   "execution_count": 147,
   "id": "28e07ef7",
   "metadata": {},
   "outputs": [],
   "source": [
    "import os\n",
    "os.environ[\"WANDB_DISABLED\"] = \"true\"\n",
    "# os.environ[\"CUDA_LAUNCH_BLOCKING\"] = \"1\"\n",
    "# os.environ[\"TORCH_USE_CUDA_DSA\"] = \"true\""
   ]
  },
  {
   "cell_type": "code",
   "execution_count": 148,
   "id": "938465df",
   "metadata": {},
   "outputs": [
    {
     "name": "stderr",
     "output_type": "stream",
     "text": [
      "Using the `WANDB_DISABLED` environment variable is deprecated and will be removed in v5. Use the --report_to flag to control the integrations used for logging result (for instance --report_to none).\n"
     ]
    }
   ],
   "source": [
    "training_args = TrainingArguments(\n",
    "    \"7_LABELS_BERT_B\",\n",
    "    report_to=None,                        # Disabling wandb callbacks\n",
    "    num_train_epochs=1,                    # Epochs - start with fewer epochs for fast training\n",
    "    per_device_train_batch_size=8,         # Small batch size due to limited GPU memory\n",
    "    per_device_eval_batch_size=16,         # Larger batch size for evaluation\n",
    "    gradient_accumulation_steps=4,         # Accumulate gradients to simulate a larger batch size\n",
    "    eval_strategy=\"steps\",                 # Evaluate at the end of every epoch\n",
    "    save_strategy=\"steps\",                 # Evaluate at the end of every epoch\n",
    "    logging_dir=\"./logs\",                  # Directory for logging\n",
    "    logging_steps=10,                     # Log every 100 steps\n",
    "    learning_rate=2e-5,                    # Standard learning rate for fine-tuning BERT\n",
    "    weight_decay=0.01,                     # Regularization to prevent overfitting\n",
    "    adam_epsilon=1e-8,                     # Adam optimizer epsilon\n",
    "    fp16=True,                             # Enable mixed precision (FP16)\n",
    "    load_best_model_at_end=True,           # Load the best model based on evaluation metrics\n",
    "    metric_for_best_model=\"eval_loss\",      # Choose evaluation metric to monitor for early stopping\n",
    "    dataloader_num_workers=2,              # Use a couple of workers for data loading (adjust based on CPU cores)\n",
    "    dataloader_pin_memory=True            # Pin memory for faster data loading       \n",
    ")"
   ]
  },
  {
   "cell_type": "code",
   "execution_count": 149,
   "id": "b7660c49",
   "metadata": {},
   "outputs": [],
   "source": [
    "from transformers import DataCollatorWithPadding\n",
    "\n",
    "data_collator = DataCollatorWithPadding(tokenizer=tokenizer)\n",
    "\n",
    "trainer = Trainer(\n",
    "    model=model,\n",
    "    args=training_args,\n",
    "    train_dataset=tokenized_data['train'],\n",
    "    eval_dataset=tokenized_data['validation'],\n",
    "    data_collator=data_collator,\n",
    ")"
   ]
  },
  {
   "cell_type": "code",
   "execution_count": 150,
   "id": "1b9eada2",
   "metadata": {},
   "outputs": [
    {
     "data": {
      "text/html": [
       "\n",
       "    <div>\n",
       "      \n",
       "      <progress value='65' max='65' style='width:300px; height:20px; vertical-align: middle;'></progress>\n",
       "      [65/65 1:26:57, Epoch 0/1]\n",
       "    </div>\n",
       "    <table border=\"1\" class=\"dataframe\">\n",
       "  <thead>\n",
       " <tr style=\"text-align: left;\">\n",
       "      <th>Step</th>\n",
       "      <th>Training Loss</th>\n",
       "      <th>Validation Loss</th>\n",
       "    </tr>\n",
       "  </thead>\n",
       "  <tbody>\n",
       "    <tr>\n",
       "      <td>10</td>\n",
       "      <td>1.841700</td>\n",
       "      <td>1.655637</td>\n",
       "    </tr>\n",
       "    <tr>\n",
       "      <td>20</td>\n",
       "      <td>1.620800</td>\n",
       "      <td>1.464912</td>\n",
       "    </tr>\n",
       "    <tr>\n",
       "      <td>30</td>\n",
       "      <td>1.379500</td>\n",
       "      <td>1.274330</td>\n",
       "    </tr>\n",
       "    <tr>\n",
       "      <td>40</td>\n",
       "      <td>1.267000</td>\n",
       "      <td>1.148315</td>\n",
       "    </tr>\n",
       "    <tr>\n",
       "      <td>50</td>\n",
       "      <td>1.138100</td>\n",
       "      <td>1.054762</td>\n",
       "    </tr>\n",
       "    <tr>\n",
       "      <td>60</td>\n",
       "      <td>1.060600</td>\n",
       "      <td>0.985107</td>\n",
       "    </tr>\n",
       "  </tbody>\n",
       "</table><p>"
      ],
      "text/plain": [
       "<IPython.core.display.HTML object>"
      ]
     },
     "metadata": {},
     "output_type": "display_data"
    },
    {
     "data": {
      "text/plain": [
       "TrainOutput(global_step=65, training_loss=1.3579817551832933, metrics={'train_runtime': 5291.512, 'train_samples_per_second': 0.397, 'train_steps_per_second': 0.012, 'total_flos': 547295563776000.0, 'train_loss': 1.3579817551832933, 'epoch': 0.9885931558935361})"
      ]
     },
     "execution_count": 150,
     "metadata": {},
     "output_type": "execute_result"
    }
   ],
   "source": [
    "trainer.train()"
   ]
  },
  {
   "cell_type": "code",
   "execution_count": 38,
   "id": "c9d94f4e",
   "metadata": {},
   "outputs": [
    {
     "name": "stdout",
     "output_type": "stream",
     "text": [
      "{0, 1, 2, 3, 4, 5, 6}\n",
      "Num labels expected: 7\n"
     ]
    }
   ],
   "source": [
    "print(set(tokenized_data['train']['label']))\n",
    "print(\"Num labels expected:\", model.config.num_labels)"
   ]
  },
  {
   "cell_type": "markdown",
   "id": "58b44b18",
   "metadata": {},
   "source": [
    "### Evaluating the model"
   ]
  },
  {
   "cell_type": "code",
   "execution_count": 151,
   "id": "26b6194d",
   "metadata": {},
   "outputs": [
    {
     "data": {
      "text/html": [],
      "text/plain": [
       "<IPython.core.display.HTML object>"
      ]
     },
     "metadata": {},
     "output_type": "display_data"
    },
    {
     "data": {
      "text/plain": [
       "{'eval_loss': 0.9747977256774902,\n",
       " 'eval_runtime': 426.2948,\n",
       " 'eval_samples_per_second': 3.284,\n",
       " 'eval_steps_per_second': 0.206,\n",
       " 'epoch': 0.9885931558935361}"
      ]
     },
     "execution_count": 151,
     "metadata": {},
     "output_type": "execute_result"
    }
   ],
   "source": [
    "trainer.evaluate()"
   ]
  },
  {
   "cell_type": "code",
   "execution_count": 152,
   "id": "7221cfd9",
   "metadata": {},
   "outputs": [
    {
     "data": {
      "text/plain": [
       "PredictionOutput(predictions=array([[ 1.48339844e+00, -5.03234863e-02,  3.42712402e-02, ...,\n",
       "         4.44580078e-01, -9.58007812e-01,  4.07226562e-01],\n",
       "       [ 1.41113281e+00, -6.56127930e-02,  1.27563477e-01, ...,\n",
       "         2.07641602e-01, -9.82421875e-01,  2.87109375e-01],\n",
       "       [ 1.39648438e+00, -2.74658203e-01,  4.97070312e-01, ...,\n",
       "         2.64648438e-01, -7.95410156e-01,  2.43164062e-01],\n",
       "       ...,\n",
       "       [-2.90222168e-02,  4.06005859e-01, -9.20898438e-01, ...,\n",
       "         1.09069824e-01, -2.45361328e-02,  1.34375000e+00],\n",
       "       [ 8.92578125e-01,  2.88085938e-01, -3.05419922e-01, ...,\n",
       "         5.84472656e-01, -7.31933594e-01,  9.78515625e-01],\n",
       "       [ 8.48770142e-04,  7.54394531e-01, -4.65820312e-01, ...,\n",
       "        -4.48974609e-01, -3.01025391e-01,  8.00781250e-01]], dtype=float32), label_ids=array([0, 0, 0, ..., 6, 6, 6], dtype=int64), metrics={'test_loss': 0.971559464931488, 'test_runtime': 573.5876, 'test_samples_per_second': 3.314, 'test_steps_per_second': 0.207})"
      ]
     },
     "execution_count": 152,
     "metadata": {},
     "output_type": "execute_result"
    }
   ],
   "source": [
    "preds = trainer.predict(tokenized_data['test'])\n",
    "preds"
   ]
  },
  {
   "cell_type": "code",
   "execution_count": 153,
   "id": "b77aa932",
   "metadata": {},
   "outputs": [
    {
     "name": "stdout",
     "output_type": "stream",
     "text": [
      "[0, 0, 0, 0, 0, 0, 0, 0, 0, 0, 0, 0, 0, 0, 0, 0, 0, 0, 0, 0, 0, 0, 0, 0, 0, 0, 0, 0, 0, 0, 0, 0, 0, 0, 0, 0, 0, 0, 0, 0, 0, 0, 0, 0, 0, 0, 0, 0, 0, 0, 0, 0, 0, 0, 0, 0, 0, 0, 0, 0, 0, 0, 0, 0, 0, 0, 0, 0, 0, 0, 0, 0, 0, 0, 0, 0, 0, 0, 0, 0, 0, 0, 0, 0, 0, 0, 0, 0, 0, 0, 0, 0, 0, 0, 0, 0, 0, 0, 0, 0, 0, 0, 0, 0, 0, 0, 0, 0, 0, 0, 0, 0, 0, 0, 0, 0, 0, 0, 0, 0, 0, 0, 0, 0, 0, 0, 0, 0, 0, 0, 0, 0, 0, 0, 0, 0, 0, 0, 0, 0, 0, 0, 0, 0, 0, 0, 0, 0, 0, 0, 0, 0, 0, 0, 0, 0, 0, 0, 0, 0, 0, 0, 0, 0, 0, 0, 0, 0, 0, 0, 0, 0, 0, 0, 0, 0, 0, 0, 0, 0, 0, 0, 0, 0, 0, 0, 0, 0, 0, 0, 0, 0, 0, 0, 0, 0, 0, 0, 0, 0, 0, 0, 0, 0, 0, 0, 0, 0, 0, 0, 0, 0, 0, 0, 0, 0, 0, 0, 0, 0, 0, 0, 0, 0, 0, 0, 0, 0, 0, 0, 0, 0, 0, 0, 0, 0, 0, 0, 0, 0, 0, 0, 0, 0, 0, 0, 0, 0, 0, 0, 0, 0, 0, 0, 0, 0, 0, 0, 0, 0, 0, 0, 0, 0, 0, 0, 0, 0, 0, 0, 0, 0, 0, 0, 0, 0, 0, 0, 0, 0, 0, 0, 0, 0, 0, 0, 0, 0, 0, 0, 0, 0, 0, 0, 0, 0, 0, 0, 0, 0, 1, 1, 1, 1, 1, 1, 1, 1, 1, 1, 1, 1, 1, 1, 1, 1, 1, 1, 1, 1, 1, 1, 1, 1, 1, 1, 1, 1, 1, 1, 1, 1, 1, 1, 1, 1, 1, 1, 1, 1, 1, 1, 1, 1, 1, 1, 1, 1, 1, 1, 1, 1, 1, 1, 1, 1, 1, 1, 1, 1, 1, 1, 1, 1, 1, 1, 1, 1, 1, 1, 1, 1, 1, 1, 1, 1, 1, 1, 1, 1, 1, 1, 1, 1, 1, 1, 1, 1, 1, 1, 1, 1, 1, 1, 1, 1, 1, 1, 1, 1, 1, 1, 1, 1, 1, 1, 1, 1, 1, 1, 1, 1, 1, 1, 1, 1, 1, 1, 1, 1, 1, 1, 1, 1, 1, 1, 1, 1, 1, 1, 1, 1, 1, 1, 1, 1, 1, 1, 1, 1, 1, 1, 1, 1, 1, 1, 1, 1, 1, 1, 1, 1, 1, 1, 1, 1, 1, 1, 1, 1, 1, 1, 1, 1, 1, 1, 1, 1, 1, 1, 1, 1, 1, 1, 1, 1, 1, 1, 1, 1, 1, 1, 1, 1, 1, 1, 1, 1, 1, 1, 1, 1, 1, 1, 1, 1, 1, 1, 1, 1, 1, 1, 1, 1, 1, 1, 1, 1, 1, 1, 1, 1, 1, 1, 1, 1, 1, 1, 1, 1, 1, 1, 1, 1, 1, 1, 1, 1, 1, 1, 1, 1, 1, 1, 1, 1, 1, 1, 1, 1, 1, 1, 1, 1, 1, 1, 1, 1, 1, 1, 1, 1, 1, 1, 1, 1, 1, 1, 1, 1, 1, 1, 1, 1, 1, 1, 1, 1, 1, 1, 1, 1, 1, 1, 1, 1, 1, 1, 1, 1, 1, 1, 1, 1, 1, 1, 1, 1, 1, 1, 1, 1, 1, 1, 1, 1, 1, 1, 1, 1, 2, 2, 2, 2, 2, 2, 2, 2, 2, 2, 2, 2, 2, 2, 2, 2, 2, 2, 2, 2, 2, 2, 2, 2, 2, 2, 2, 2, 2, 2, 2, 2, 2, 2, 2, 2, 2, 2, 2, 2, 2, 2, 2, 2, 2, 2, 2, 2, 2, 2, 2, 2, 2, 2, 2, 2, 2, 2, 2, 2, 2, 2, 2, 2, 2, 2, 2, 2, 2, 2, 2, 2, 2, 2, 2, 2, 2, 2, 2, 2, 2, 2, 2, 2, 2, 2, 2, 2, 2, 2, 2, 2, 2, 2, 2, 2, 2, 2, 2, 2, 2, 2, 2, 2, 2, 2, 2, 2, 2, 2, 2, 2, 2, 2, 2, 2, 2, 2, 2, 2, 2, 2, 2, 2, 2, 2, 2, 2, 2, 2, 2, 2, 2, 2, 2, 2, 2, 2, 2, 2, 2, 2, 2, 2, 2, 2, 2, 2, 2, 2, 2, 2, 2, 2, 2, 2, 2, 2, 2, 2, 2, 2, 2, 2, 2, 2, 2, 2, 2, 2, 2, 2, 2, 2, 2, 2, 2, 2, 2, 2, 2, 2, 2, 2, 2, 2, 2, 2, 2, 2, 2, 2, 2, 2, 2, 2, 2, 2, 2, 2, 2, 2, 2, 2, 2, 2, 2, 2, 2, 2, 2, 2, 2, 2, 2, 2, 2, 2, 2, 2, 2, 2, 2, 2, 2, 2, 2, 2, 2, 2, 2, 2, 2, 2, 2, 2, 2, 2, 2, 2, 2, 2, 2, 2, 2, 2, 2, 2, 2, 2, 2, 2, 2, 2, 2, 2, 2, 2, 2, 2, 2, 2, 2, 2, 2, 2, 2, 2, 2, 2, 2, 2, 2, 2, 2, 2, 2, 2, 2, 2, 2, 2, 2, 2, 2, 2, 2, 2, 2, 2, 2, 2, 2, 2, 2, 2, 2, 2, 2, 2, 3, 3, 3, 3, 3, 3, 3, 3, 3, 3, 3, 3, 3, 3, 3, 3, 3, 3, 3, 3, 3, 3, 3, 3, 3, 3, 3, 3, 3, 3, 3, 3, 3, 3, 3, 3, 3, 3, 3, 3, 3, 3, 3, 3, 3, 3, 3, 3, 3, 3, 3, 3, 3, 3, 3, 3, 3, 3, 3, 3, 3, 3, 3, 3, 3, 3, 3, 3, 3, 3, 3, 3, 3, 3, 3, 3, 3, 3, 3, 3, 3, 3, 3, 3, 3, 3, 3, 3, 3, 3, 3, 3, 3, 3, 3, 3, 3, 3, 3, 3, 3, 3, 3, 3, 3, 3, 3, 3, 3, 3, 3, 3, 3, 3, 3, 3, 3, 3, 3, 3, 3, 3, 3, 3, 3, 3, 3, 3, 3, 3, 3, 3, 3, 3, 3, 3, 3, 3, 3, 3, 3, 3, 3, 3, 3, 3, 3, 3, 3, 3, 3, 3, 3, 3, 3, 3, 3, 3, 3, 3, 3, 3, 3, 3, 3, 3, 3, 3, 3, 3, 3, 3, 3, 3, 3, 3, 3, 3, 3, 3, 3, 3, 3, 3, 3, 3, 3, 3, 3, 3, 3, 3, 3, 3, 3, 3, 3, 3, 3, 3, 3, 3, 3, 3, 3, 3, 3, 3, 3, 3, 3, 3, 3, 3, 3, 3, 3, 3, 3, 3, 3, 3, 3, 3, 3, 3, 3, 3, 3, 3, 3, 3, 3, 3, 3, 3, 3, 3, 3, 3, 3, 3, 3, 3, 3, 3, 3, 3, 3, 3, 3, 3, 3, 3, 3, 3, 3, 3, 3, 3, 3, 3, 3, 3, 3, 3, 3, 3, 3, 3, 3, 3, 3, 3, 3, 3, 3, 3, 3, 3, 3, 3, 3, 3, 3, 3, 3, 3, 3, 3, 3, 3, 3, 3, 3, 3, 3, 3, 3, 3, 4, 4, 4, 4, 4, 4, 4, 4, 4, 4, 4, 4, 4, 4, 4, 4, 4, 4, 4, 4, 4, 4, 4, 4, 4, 4, 4, 4, 4, 4, 4, 4, 4, 4, 4, 4, 4, 4, 4, 4, 4, 4, 4, 4, 4, 4, 4, 4, 4, 4, 4, 4, 4, 4, 4, 4, 4, 4, 4, 4, 4, 4, 4, 4, 4, 4, 4, 4, 4, 4, 4, 4, 4, 4, 4, 4, 4, 4, 4, 4, 4, 4, 4, 4, 4, 4, 4, 4, 4, 4, 4, 4, 4, 4, 4, 4, 4, 4, 4, 4, 4, 4, 4, 4, 4, 4, 4, 4, 4, 4, 4, 4, 4, 4, 4, 4, 4, 4, 4, 4, 4, 4, 4, 4, 4, 4, 4, 4, 4, 4, 4, 4, 4, 4, 4, 4, 4, 4, 4, 4, 4, 4, 4, 4, 4, 4, 4, 4, 4, 4, 4, 4, 4, 4, 4, 4, 4, 4, 4, 4, 4, 4, 4, 4, 4, 4, 4, 4, 4, 4, 4, 4, 4, 4, 4, 4, 4, 4, 4, 4, 4, 4, 4, 4, 4, 4, 4, 4, 4, 4, 4, 4, 4, 4, 4, 4, 4, 4, 4, 4, 4, 4, 4, 4, 4, 4, 4, 4, 4, 4, 4, 4, 4, 4, 4, 4, 4, 4, 4, 4, 4, 4, 4, 4, 4, 4, 4, 4, 4, 4, 4, 4, 4, 4, 4, 4, 4, 4, 4, 4, 4, 4, 4, 4, 4, 4, 4, 4, 4, 4, 4, 4, 4, 4, 4, 4, 4, 4, 4, 4, 4, 4, 4, 4, 4, 4, 4, 5, 5, 5, 5, 5, 5, 5, 5, 5, 5, 5, 5, 5, 5, 5, 5, 5, 5, 5, 5, 5, 5, 5, 5, 5, 5, 5, 5, 5, 5, 5, 5, 5, 5, 5, 5, 5, 5, 5, 5, 5, 5, 5, 5, 5, 5, 5, 5, 5, 5, 5, 5, 5, 5, 5, 5, 5, 5, 5, 5, 5, 5, 5, 5, 5, 5, 5, 5, 5, 5, 5, 5, 5, 5, 5, 5, 5, 5, 5, 5, 5, 5, 5, 5, 5, 5, 5, 5, 5, 5, 5, 5, 5, 5, 5, 5, 5, 5, 5, 5, 5, 5, 5, 5, 5, 5, 5, 5, 5, 5, 5, 5, 5, 5, 5, 5, 5, 5, 5, 5, 5, 5, 5, 5, 5, 5, 5, 5, 5, 5, 5, 5, 5, 5, 5, 5, 5, 5, 5, 5, 5, 5, 5, 5, 5, 5, 5, 5, 5, 5, 5, 5, 5, 5, 5, 5, 5, 5, 5, 5, 5, 5, 5, 5, 5, 5, 5, 5, 5, 5, 5, 5, 5, 5, 5, 5, 5, 5, 5, 5, 5, 5, 5, 5, 5, 5, 5, 5, 5, 5, 5, 5, 5, 5, 5, 5, 5, 5, 5, 5, 5, 5, 5, 5, 5, 5, 5, 5, 5, 5, 5, 5, 5, 6, 6, 6, 6, 6, 6, 6, 6, 6, 6, 6, 6, 6, 6, 6, 6, 6, 6, 6, 6, 6, 6, 6, 6, 6, 6, 6, 6, 6, 6, 6, 6, 6, 6, 6, 6, 6, 6, 6, 6, 6, 6, 6, 6, 6, 6, 6, 6, 6, 6, 6, 6, 6, 6, 6, 6, 6, 6, 6, 6, 6, 6, 6, 6, 6, 6, 6, 6, 6, 6, 6, 6, 6, 6, 6, 6, 6, 6, 6, 6, 6, 6, 6, 6, 6, 6, 6, 6, 6, 6, 6, 6, 6, 6, 6, 6, 6, 6, 6, 6, 6, 6, 6, 6, 6, 6, 6, 6, 6, 6, 6, 6, 6, 6, 6, 6, 6, 6, 6, 6, 6, 6, 6, 6, 6, 6, 6, 6, 6, 6, 6, 6, 6, 6, 6, 6, 6, 6, 6, 6, 6, 6, 6, 6, 6, 6, 6, 6, 6, 6, 6, 6, 6, 6, 6, 6, 6, 6, 6, 6, 6, 6, 6, 6, 6, 6, 6, 6, 6, 6, 6, 6, 6, 6, 6, 6, 6, 6, 6, 6, 6, 6, 6, 6, 6, 6, 6, 6, 6, 6, 6, 6, 6, 6, 6, 6, 6, 6, 6, 6, 6, 6, 6, 6, 6, 6, 6, 6, 6, 6, 6, 6, 6, 6, 6, 6, 6, 6, 6, 6, 6]\n",
      "['text', 'label', 'input_ids', 'token_type_ids', 'attention_mask']\n"
     ]
    }
   ],
   "source": [
    "print(tokenized_data['test']['label'])  # View the first element\n",
    "print(tokenized_data['test'].column_names)  # Check the column names to ensure 'labels' exists"
   ]
  },
  {
   "cell_type": "code",
   "execution_count": 154,
   "id": "290b9e9d",
   "metadata": {},
   "outputs": [
    {
     "data": {
      "text/plain": [
       "array([0, 0, 0, ..., 6, 6, 6], dtype=int64)"
      ]
     },
     "execution_count": 154,
     "metadata": {},
     "output_type": "execute_result"
    }
   ],
   "source": [
    "y_pred = torch.argmax(torch.tensor(preds.predictions), dim=1).numpy()\n",
    "y_pred"
   ]
  },
  {
   "cell_type": "code",
   "execution_count": 155,
   "id": "000ed45a",
   "metadata": {},
   "outputs": [
    {
     "name": "stdout",
     "output_type": "stream",
     "text": [
      "                     precision    recall  f1-score   support\n",
      "\n",
      "            biology       0.92      0.99      0.95       300\n",
      "            physics       0.98      0.85      0.91       300\n",
      "          geography       1.00      0.98      0.99       300\n",
      " writing-strategies       0.95      0.96      0.96       300\n",
      "figurative-language       0.96      1.00      0.98       267\n",
      "          chemistry       0.83      1.00      0.91       213\n",
      "      earth-science       0.99      0.85      0.91       221\n",
      "\n",
      "           accuracy                           0.95      1901\n",
      "          macro avg       0.95      0.95      0.94      1901\n",
      "       weighted avg       0.95      0.95      0.95      1901\n",
      "\n"
     ]
    }
   ],
   "source": [
    "print(classification_report(sets['test']['target'], y_pred, target_names=sets['test']['target_names']))"
   ]
  },
  {
   "cell_type": "code",
   "execution_count": 156,
   "id": "b29855af",
   "metadata": {},
   "outputs": [
    {
     "name": "stdout",
     "output_type": "stream",
     "text": [
      "[[297   2   1   0   0   0   0]\n",
      " [  7 254   0   3   0  36   0]\n",
      " [  3   0 294   3   0   0   0]\n",
      " [  0   0   0 288  11   0   1]\n",
      " [  0   0   0   0 267   0   0]\n",
      " [  0   1   0   0   0 212   0]\n",
      " [ 16   3   0   8   1   6 187]]\n"
     ]
    }
   ],
   "source": [
    "print(confusion_matrix(sets['test']['target'], y_pred))"
   ]
  },
  {
   "cell_type": "code",
   "execution_count": 157,
   "id": "a9d7f785",
   "metadata": {},
   "outputs": [
    {
     "name": "stdout",
     "output_type": "stream",
     "text": [
      "Predictions: [[ 1.48339844e+00 -5.03234863e-02  3.42712402e-02 ...  4.44580078e-01\n",
      "  -9.58007812e-01  4.07226562e-01]\n",
      " [ 1.41113281e+00 -6.56127930e-02  1.27563477e-01 ...  2.07641602e-01\n",
      "  -9.82421875e-01  2.87109375e-01]\n",
      " [ 1.39648438e+00 -2.74658203e-01  4.97070312e-01 ...  2.64648438e-01\n",
      "  -7.95410156e-01  2.43164062e-01]\n",
      " ...\n",
      " [-2.90222168e-02  4.06005859e-01 -9.20898438e-01 ...  1.09069824e-01\n",
      "  -2.45361328e-02  1.34375000e+00]\n",
      " [ 8.92578125e-01  2.88085938e-01 -3.05419922e-01 ...  5.84472656e-01\n",
      "  -7.31933594e-01  9.78515625e-01]\n",
      " [ 8.48770142e-04  7.54394531e-01 -4.65820312e-01 ... -4.48974609e-01\n",
      "  -3.01025391e-01  8.00781250e-01]]\n",
      "Label IDs: [0 0 0 ... 6 6 6]\n",
      "Metrics: {'test_loss': 0.971559464931488, 'test_runtime': 573.5876, 'test_samples_per_second': 3.314, 'test_steps_per_second': 0.207}\n"
     ]
    },
    {
     "data": {
      "text/plain": [
       "tensor([0.9377, 0.9538, 1.0095,  ..., 0.9061, 1.3998, 1.2920])"
      ]
     },
     "execution_count": 157,
     "metadata": {},
     "output_type": "execute_result"
    }
   ],
   "source": [
    "# Assuming 'preds' is the result of trainer.predict()\n",
    "predictions, label_ids, _ = preds  # Ignore the metrics part with '_'\n",
    "\n",
    "predictions, label_ids, metrics = preds\n",
    "print(\"Predictions:\", predictions)\n",
    "print(\"Label IDs:\", label_ids)\n",
    "print(\"Metrics:\", metrics)\n",
    "\n",
    "# Calculate the loss using torch's cross_entropy\n",
    "loss = torch.nn.functional.cross_entropy(torch.tensor(predictions), torch.tensor(label_ids), reduction='none')\n",
    "loss"
   ]
  },
  {
   "cell_type": "code",
   "execution_count": 158,
   "id": "82ea2125",
   "metadata": {},
   "outputs": [
    {
     "data": {
      "text/plain": [
       "696"
      ]
     },
     "execution_count": 158,
     "metadata": {},
     "output_type": "execute_result"
    }
   ],
   "source": [
    "index_of_instance = torch.argmax(loss).item()\n",
    "index_of_instance"
   ]
  },
  {
   "cell_type": "code",
   "execution_count": 159,
   "id": "80228246",
   "metadata": {},
   "outputs": [
    {
     "data": {
      "text/plain": [
       "2.428673267364502"
      ]
     },
     "execution_count": 159,
     "metadata": {},
     "output_type": "execute_result"
    }
   ],
   "source": [
    "loss[index_of_instance].item()"
   ]
  },
  {
   "cell_type": "code",
   "execution_count": 160,
   "id": "a1bbfb50",
   "metadata": {},
   "outputs": [
    {
     "name": "stdout",
     "output_type": "stream",
     "text": [
      "Target class:    geography\n",
      "Predicted class: biology\n"
     ]
    }
   ],
   "source": [
    "print(f'Target class:    {sets[\"test\"][\"target_names\"][sets[\"test\"][\"target\"][index_of_instance]]}')\n",
    "print(f'Predicted class: {sets[\"test\"][\"target_names\"][y_pred[index_of_instance]]}')"
   ]
  },
  {
   "cell_type": "code",
   "execution_count": 161,
   "id": "0775bfb9",
   "metadata": {},
   "outputs": [
    {
     "name": "stdout",
     "output_type": "stream",
     "text": [
      "In which place are cows, horses, and other livestock more common? a rural area  Cows, horses, and other livestock are more common in rural areas. They need a lot of open space. Rural areas have a lot of open space. There aren't many buildings or people. People around the world live in three main kinds of places: urban areas, suburban areas, and rural areas.\n",
      "An urban area is a city. It has many people and businesses. The buildings are close to each other. The buildings are often tall and have many floors. Since there are so many people, traffic is usually bad. People will walk or take the bus, train, or subway to avoid traffic.\n",
      "A suburban area, or suburb, is near a city. It is quieter and less crowded than an urban area. People usually live in houses with yards. Most people drive to get places.\n",
      "A rural area is less crowded than both urban and suburban areas. Houses are much more spread out. People usually have to drive to get places. People in rural areas often live on farms or ranches.\n",
      "Some places, like small towns, don't really fit into any of the types. A small town does not have as many people as an urban area, but it has more people than a rural area. It is not near a city, so it is not called a suburb.\n"
     ]
    }
   ],
   "source": [
    "print(sets['test']['data'][index_of_instance])"
   ]
  },
  {
   "cell_type": "markdown",
   "id": "71c91d2c",
   "metadata": {},
   "source": [
    "### Making Predictions"
   ]
  },
  {
   "cell_type": "code",
   "execution_count": 162,
   "id": "4b137ab2",
   "metadata": {},
   "outputs": [],
   "source": [
    "@torch.no_grad()\n",
    "def predict(text):\n",
    "    input_encodings = tokenizer(text, return_tensors='pt').to(device)\n",
    "    outputs = model(**input_encodings)\n",
    "\n",
    "    lbl = sets['test']['target_names'][torch.argmax(outputs.logits).item()]\n",
    "\n",
    "    return lbl"
   ]
  },
  {
   "cell_type": "code",
   "execution_count": 163,
   "id": "572f13f9",
   "metadata": {},
   "outputs": [],
   "source": [
    "@torch.no_grad()\n",
    "def predict_proba(text):\n",
    "    input_encodings = tokenizer(text, return_tensors='pt').to(device)\n",
    "    outputs = model(**input_encodings)\n",
    "\n",
    "    proba = torch.softmax(outputs.logits, dim=1).cpu().squeeze().numpy()\n",
    "\n",
    "\n",
    "    return dict(zip(sets['test']['target_names'], proba))"
   ]
  },
  {
   "cell_type": "code",
   "execution_count": 165,
   "id": "7308c932",
   "metadata": {},
   "outputs": [
    {
     "data": {
      "text/plain": [
       "'writing-strategies'"
      ]
     },
     "execution_count": 165,
     "metadata": {},
     "output_type": "execute_result"
    }
   ],
   "source": [
    "sample_text = 'Prolong periods of intermediate fasting lead cells to the state of autophagy'\n",
    "predict(sample_text)"
   ]
  },
  {
   "cell_type": "code",
   "execution_count": 166,
   "id": "fd413554",
   "metadata": {},
   "outputs": [
    {
     "data": {
      "text/plain": [
       "dict_values([0.21431877, 0.1324658, 0.12506446, 0.22758484, 0.09993551, 0.06880208, 0.13182859])"
      ]
     },
     "execution_count": 166,
     "metadata": {},
     "output_type": "execute_result"
    }
   ],
   "source": [
    "predict_proba(sample_text).values()"
   ]
  },
  {
   "cell_type": "code",
   "execution_count": 167,
   "id": "17d09bae",
   "metadata": {},
   "outputs": [
    {
     "data": {
      "text/plain": [
       "dict_keys(['biology', 'physics', 'geography', 'writing-strategies', 'figurative-language', 'chemistry', 'earth-science'])"
      ]
     },
     "execution_count": 167,
     "metadata": {},
     "output_type": "execute_result"
    }
   ],
   "source": [
    "predict_proba(sample_text).keys()"
   ]
  },
  {
   "cell_type": "markdown",
   "id": "f68ed4c0",
   "metadata": {},
   "source": [
    "### Saving and loading a fine-tuned model"
   ]
  },
  {
   "cell_type": "code",
   "execution_count": 168,
   "id": "b787d365",
   "metadata": {},
   "outputs": [],
   "source": [
    "# Save to a directory\n",
    "tokenizer.save_pretrained(\"./models/7-labels-bert-b\")\n",
    "model.save_pretrained('./models/7-labels-bert-b')"
   ]
  },
  {
   "cell_type": "code",
   "execution_count": 172,
   "id": "cb9dfd02",
   "metadata": {},
   "outputs": [
    {
     "data": {
      "text/plain": [
       "'geography'"
      ]
     },
     "execution_count": 172,
     "metadata": {},
     "output_type": "execute_result"
    }
   ],
   "source": [
    "tokenizer = AutoTokenizer.from_pretrained(\"./models/7-labels-bert-b\")\n",
    "model = AutoModelForSequenceClassification.from_pretrained('./models/7-labels-bert-b').to(device)\n",
    "predict('the distance between two points is 10km, I am traveling from point A to point B at a speed of 5km/h. How much time do I need to get from point A to point B?')"
   ]
  },
  {
   "cell_type": "markdown",
   "id": "100d5fff",
   "metadata": {},
   "source": [
    "### 1st Model\n",
    "\n",
    "Task: **Topic Classification**\n",
    "\n",
    "Labels: **['biology', 'physics', 'geography']**\n",
    "\n",
    "Data consisted of these fields: **['question', 'answer', 'hint', 'solution', 'lecture']**\n",
    "\n",
    "Training Size: **300 records per topic** \n",
    "\n",
    "Validation Size: **200 records per topic** \n",
    "\n",
    "training arguments: \n",
    "- num_train_epochs=1,                    # Epochs - start with fewer epochs for fast training\n",
    "- per_device_train_batch_size=8,         # Small batch size due to limited GPU memory\n",
    "- per_device_eval_batch_size=16,         # Larger batch size for evaluation\n",
    "- gradient_accumulation_steps=4,         # Accumulate gradients to simulate a larger batch size\n",
    "- eval_strategy=\"steps\",                 # Evaluate at the end of every epoch\n",
    "- save_strategy=\"steps\",                 # Evaluate at the end of every epoch\n",
    "- logging_dir=\"./logs\",                  # Directory for logging\n",
    "- logging_steps=10,                     # Log every 100 steps\n",
    "- learning_rate=2e-5,                    # Standard learning rate for fine-tuning BERT\n",
    "- weight_decay=0.01,                     # Regularization to prevent overfitting\n",
    "- adam_epsilon=1e-8,                     # Adam optimizer epsilon\n",
    "- fp16=True,                             # Enable mixed precision (FP16)\n",
    "- load_best_model_at_end=True,           # Load the best model based on evaluation metrics\n",
    "- metric_for_best_model=\"eval_loss\",      # Choose evaluation metric to monitor for early stopping\n",
    "- dataloader_num_workers=2,              # Use a couple of workers for data loading (adjust based on CPU cores)\n",
    "- dataloader_pin_memory=True            # Pin memory for faster data loading"
   ]
  },
  {
   "cell_type": "code",
   "execution_count": 183,
   "id": "ec54cf75",
   "metadata": {},
   "outputs": [],
   "source": [
    "model_path = './models/3-labels-bert'\n",
    "tokenizer = AutoTokenizer.from_pretrained(model_path)\n",
    "model = AutoModelForSequenceClassification.from_pretrained(model_path).to(device)"
   ]
  },
  {
   "cell_type": "code",
   "execution_count": 116,
   "id": "c8e76016",
   "metadata": {},
   "outputs": [
    {
     "data": {
      "text/plain": [
       "'geography'"
      ]
     },
     "execution_count": 116,
     "metadata": {},
     "output_type": "execute_result"
    }
   ],
   "source": [
    "predict('the distance between two points is 10km, I am traveling from point A to point B at a speed of 5km/h. How much time do I need to get from point A to point B?')"
   ]
  },
  {
   "cell_type": "code",
   "execution_count": 117,
   "id": "d37755b4",
   "metadata": {},
   "outputs": [
    {
     "data": {
      "text/plain": [
       "'biology'"
      ]
     },
     "execution_count": 117,
     "metadata": {},
     "output_type": "execute_result"
    }
   ],
   "source": [
    "predict('Effective writing strategies include planning, drafting, revising, and editing to clearly communicate ideas and engage the reader.')"
   ]
  },
  {
   "cell_type": "code",
   "execution_count": 184,
   "id": "4fea77c2",
   "metadata": {},
   "outputs": [],
   "source": [
    "test = prepare_dataset_for_classification(\n",
    "    dataset, \n",
    "    \"test\", \n",
    "    \"topic\", \n",
    "    ['biology', 'physics', 'geography'],\n",
    "    ['question'],\n",
    "    shuffle=True,\n",
    "    random_state=None,\n",
    "    max_items_per_class=300\n",
    ")\n",
    "\n",
    "testDataset = Dataset.from_dict({\n",
    "    'text': test['data'],\n",
    "    'label': test['target']\n",
    "})"
   ]
  },
  {
   "cell_type": "code",
   "execution_count": 185,
   "id": "d710ea30",
   "metadata": {},
   "outputs": [
    {
     "data": {
      "application/vnd.jupyter.widget-view+json": {
       "model_id": "f2f90256402a4e70bedb8122fbac4214",
       "version_major": 2,
       "version_minor": 0
      },
      "text/plain": [
       "Map:   0%|          | 0/900 [00:00<?, ? examples/s]"
      ]
     },
     "metadata": {},
     "output_type": "display_data"
    }
   ],
   "source": [
    "def tokenize_function(examples):\n",
    "    return tokenizer(examples[\"text\"], padding=True, truncation=True,)\n",
    "\n",
    "tokenized_testingData = testDataset.map(tokenize_function, batched=True)"
   ]
  },
  {
   "cell_type": "code",
   "execution_count": 186,
   "id": "a347d550",
   "metadata": {},
   "outputs": [
    {
     "name": "stderr",
     "output_type": "stream",
     "text": [
      "Using the `WANDB_DISABLED` environment variable is deprecated and will be removed in v5. Use the --report_to flag to control the integrations used for logging result (for instance --report_to none).\n",
      "C:\\Users\\chris\\AppData\\Local\\Temp\\ipykernel_16920\\1057010216.py:5: FutureWarning: `tokenizer` is deprecated and will be removed in version 5.0.0 for `Trainer.__init__`. Use `processing_class` instead.\n",
      "  trainer = Trainer(\n"
     ]
    }
   ],
   "source": [
    "from transformers import Trainer, TrainingArguments\n",
    "\n",
    "training_args = TrainingArguments()\n",
    "\n",
    "trainer = Trainer(\n",
    "    model=model,\n",
    "    args=training_args,\n",
    "    tokenizer=tokenizer\n",
    ")"
   ]
  },
  {
   "cell_type": "code",
   "execution_count": 187,
   "id": "0545f557",
   "metadata": {},
   "outputs": [
    {
     "data": {
      "text/html": [],
      "text/plain": [
       "<IPython.core.display.HTML object>"
      ]
     },
     "metadata": {},
     "output_type": "display_data"
    }
   ],
   "source": [
    "preds = trainer.predict(tokenized_testingData)"
   ]
  },
  {
   "cell_type": "code",
   "execution_count": 188,
   "id": "d2ac2c2b",
   "metadata": {},
   "outputs": [
    {
     "name": "stdout",
     "output_type": "stream",
     "text": [
      "Classification Report:\n"
     ]
    },
    {
     "data": {
      "text/html": [
       "<style type=\"text/css\">\n",
       "#T_4676f_row0_col0 {\n",
       "  background-color: #083370;\n",
       "  color: #f1f1f1;\n",
       "}\n",
       "#T_4676f_row0_col1 {\n",
       "  background-color: #2070b4;\n",
       "  color: #f1f1f1;\n",
       "}\n",
       "#T_4676f_row0_col2, #T_4676f_row1_col0, #T_4676f_row2_col1, #T_4676f_row4_col3, #T_4676f_row5_col3 {\n",
       "  background-color: #08306b;\n",
       "  color: #f1f1f1;\n",
       "}\n",
       "#T_4676f_row0_col3, #T_4676f_row1_col3, #T_4676f_row2_col3 {\n",
       "  background-color: #abd0e6;\n",
       "  color: #000000;\n",
       "}\n",
       "#T_4676f_row1_col1, #T_4676f_row1_col2, #T_4676f_row2_col0, #T_4676f_row3_col3 {\n",
       "  background-color: #f7fbff;\n",
       "  color: #000000;\n",
       "}\n",
       "#T_4676f_row2_col2 {\n",
       "  background-color: #e1edf8;\n",
       "  color: #000000;\n",
       "}\n",
       "#T_4676f_row3_col0 {\n",
       "  background-color: #4d99ca;\n",
       "  color: #f1f1f1;\n",
       "}\n",
       "#T_4676f_row3_col1, #T_4676f_row4_col1, #T_4676f_row5_col1 {\n",
       "  background-color: #4f9bcb;\n",
       "  color: #f1f1f1;\n",
       "}\n",
       "#T_4676f_row3_col2, #T_4676f_row4_col2, #T_4676f_row5_col2 {\n",
       "  background-color: #a0cbe2;\n",
       "  color: #000000;\n",
       "}\n",
       "#T_4676f_row4_col0, #T_4676f_row5_col0 {\n",
       "  background-color: #3888c1;\n",
       "  color: #f1f1f1;\n",
       "}\n",
       "</style>\n",
       "<table id=\"T_4676f\">\n",
       "  <thead>\n",
       "    <tr>\n",
       "      <th class=\"blank level0\" >&nbsp;</th>\n",
       "      <th id=\"T_4676f_level0_col0\" class=\"col_heading level0 col0\" >precision</th>\n",
       "      <th id=\"T_4676f_level0_col1\" class=\"col_heading level0 col1\" >recall</th>\n",
       "      <th id=\"T_4676f_level0_col2\" class=\"col_heading level0 col2\" >f1-score</th>\n",
       "      <th id=\"T_4676f_level0_col3\" class=\"col_heading level0 col3\" >support</th>\n",
       "    </tr>\n",
       "  </thead>\n",
       "  <tbody>\n",
       "    <tr>\n",
       "      <th id=\"T_4676f_level0_row0\" class=\"row_heading level0 row0\" >biology</th>\n",
       "      <td id=\"T_4676f_row0_col0\" class=\"data row0 col0\" >0.99</td>\n",
       "      <td id=\"T_4676f_row0_col1\" class=\"data row0 col1\" >0.95</td>\n",
       "      <td id=\"T_4676f_row0_col2\" class=\"data row0 col2\" >0.97</td>\n",
       "      <td id=\"T_4676f_row0_col3\" class=\"data row0 col3\" >300.00</td>\n",
       "    </tr>\n",
       "    <tr>\n",
       "      <th id=\"T_4676f_level0_row1\" class=\"row_heading level0 row1\" >physics</th>\n",
       "      <td id=\"T_4676f_row1_col0\" class=\"data row1 col0\" >0.99</td>\n",
       "      <td id=\"T_4676f_row1_col1\" class=\"data row1 col1\" >0.81</td>\n",
       "      <td id=\"T_4676f_row1_col2\" class=\"data row1 col2\" >0.89</td>\n",
       "      <td id=\"T_4676f_row1_col3\" class=\"data row1 col3\" >300.00</td>\n",
       "    </tr>\n",
       "    <tr>\n",
       "      <th id=\"T_4676f_level0_row2\" class=\"row_heading level0 row2\" >geography</th>\n",
       "      <td id=\"T_4676f_row2_col0\" class=\"data row2 col0\" >0.82</td>\n",
       "      <td id=\"T_4676f_row2_col1\" class=\"data row2 col1\" >1.00</td>\n",
       "      <td id=\"T_4676f_row2_col2\" class=\"data row2 col2\" >0.90</td>\n",
       "      <td id=\"T_4676f_row2_col3\" class=\"data row2 col3\" >300.00</td>\n",
       "    </tr>\n",
       "    <tr>\n",
       "      <th id=\"T_4676f_level0_row3\" class=\"row_heading level0 row3\" >accuracy</th>\n",
       "      <td id=\"T_4676f_row3_col0\" class=\"data row3 col0\" >0.92</td>\n",
       "      <td id=\"T_4676f_row3_col1\" class=\"data row3 col1\" >0.92</td>\n",
       "      <td id=\"T_4676f_row3_col2\" class=\"data row3 col2\" >0.92</td>\n",
       "      <td id=\"T_4676f_row3_col3\" class=\"data row3 col3\" >0.92</td>\n",
       "    </tr>\n",
       "    <tr>\n",
       "      <th id=\"T_4676f_level0_row4\" class=\"row_heading level0 row4\" >macro avg</th>\n",
       "      <td id=\"T_4676f_row4_col0\" class=\"data row4 col0\" >0.93</td>\n",
       "      <td id=\"T_4676f_row4_col1\" class=\"data row4 col1\" >0.92</td>\n",
       "      <td id=\"T_4676f_row4_col2\" class=\"data row4 col2\" >0.92</td>\n",
       "      <td id=\"T_4676f_row4_col3\" class=\"data row4 col3\" >900.00</td>\n",
       "    </tr>\n",
       "    <tr>\n",
       "      <th id=\"T_4676f_level0_row5\" class=\"row_heading level0 row5\" >weighted avg</th>\n",
       "      <td id=\"T_4676f_row5_col0\" class=\"data row5 col0\" >0.93</td>\n",
       "      <td id=\"T_4676f_row5_col1\" class=\"data row5 col1\" >0.92</td>\n",
       "      <td id=\"T_4676f_row5_col2\" class=\"data row5 col2\" >0.92</td>\n",
       "      <td id=\"T_4676f_row5_col3\" class=\"data row5 col3\" >900.00</td>\n",
       "    </tr>\n",
       "  </tbody>\n",
       "</table>\n"
      ],
      "text/plain": [
       "<pandas.io.formats.style.Styler at 0x2043df8ec10>"
      ]
     },
     "metadata": {},
     "output_type": "display_data"
    },
    {
     "name": "stdout",
     "output_type": "stream",
     "text": [
      "Confusion Matrix:\n"
     ]
    },
    {
     "data": {
      "image/png": "[encoded data removed]",
      "text/plain": [
       "<Figure size 1000x600 with 2 Axes>"
      ]
     },
     "metadata": {},
     "output_type": "display_data"
    }
   ],
   "source": [
    "import pandas as pd\n",
    "import seaborn as sns\n",
    "import matplotlib.pyplot as plt\n",
    "from sklearn.metrics import classification_report, confusion_matrix\n",
    "\n",
    "# Classification report as a DataFrame\n",
    "y_pred = torch.argmax(torch.tensor(preds.predictions), dim=1).numpy()\n",
    "report_dict = classification_report(test['target'], y_pred, target_names=test['target_names'], output_dict=True)\n",
    "report_df = pd.DataFrame(report_dict).transpose()\n",
    "\n",
    "# Display nicely formatted classification report\n",
    "print(\"Classification Report:\")\n",
    "display(report_df.style.background_gradient(cmap='Blues').format(precision=2))\n",
    "\n",
    "# Confusion matrix visualization\n",
    "cm = confusion_matrix(test['target'], y_pred)\n",
    "plt.figure(figsize=(10, 6))\n",
    "sns.heatmap(cm, annot=True, fmt=\"d\", cmap=\"Blues\", xticklabels=test['target_names'], yticklabels=test['target_names'])\n",
    "plt.xlabel(\"Predicted Label\")\n",
    "plt.ylabel(\"True Label\")\n",
    "plt.title(\"Confusion Matrix\")\n",
    "print(\"Confusion Matrix:\")\n",
    "plt.show()"
   ]
  },
  {
   "cell_type": "markdown",
   "id": "1f32015b",
   "metadata": {},
   "source": [
    "**1st Model Performance & Error Analysis**\n",
    "\n",
    "*Task: 3-way topic classification (biology / physics / geography)*\n",
    "\n",
    "*Inputs: question + answer + hint + solution + lecture*\n",
    "\n",
    "*Training: 300 examples/class, 1 epoch, LR = 2e-5, batch 8 (train) / 16 (eval), fp16*\n",
    "\n",
    "\n",
    "---\n",
    "\n",
    "#### Overall Metrics\n",
    "\n",
    "* **Accuracy:** 0.92\n",
    "* **Macro-avg F1:** 0.92\n",
    "* **Weighted-avg F1:** 0.92\n",
    "\n",
    "The model correctly labels 92% of held-out questions—very solid for a quick single-epoch fine-tune.\n",
    "\n",
    "---\n",
    "\n",
    "#### Class-Level Breakdown\n",
    "\n",
    "| Class         | Precision | Recall | F1-score | Support |\n",
    "| ------------- | --------- | ------ | -------- | ------- |\n",
    "| **biology**   | 0.99      | 0.95   | 0.97     | 300     |\n",
    "| **physics**   | 0.99      | 0.81   | 0.89     | 300     |\n",
    "| **geography** | 0.82      | 1.00   | 0.90     | 300     |\n",
    "\n",
    "* **Biology:**\n",
    "\n",
    "  * High precision/recall—only 14 biology questions mis-labeled (12 → geography, 2 → physics).\n",
    "* **Physics:**\n",
    "\n",
    "  * Excellent precision but recall 0.81: the model misses \\~19% of physics questions, often calling them geography (53 mis-labels).\n",
    "* **Geography:**\n",
    "\n",
    "  * Perfect recall (all 300 geography examples caught), but precision is 0.82: \\~18% of non-geography questions get (incorrectly) “geography.”\n",
    "\n",
    "---\n",
    "\n",
    "#### Confusion Matrix Snippet\n",
    "\n",
    "| True \\ Pred   | biology | physics | geography |\n",
    "| ------------- | ------- | ------- | --------- |\n",
    "| **biology**   | 286     | 2       | 12        |\n",
    "| **physics**   | 3       | 244     | 53        |\n",
    "| **geography** | 0       | 0       | 300       |\n",
    "\n",
    "* The biggest error mode is **over-predicting geography** for biology/physics.\n",
    "* Geography’s strong patterns (e.g. map‐based hints) are learned quickly, but bleed into others.\n",
    "\n",
    "---\n",
    "\n",
    "#### What This Tells Us\n",
    "\n",
    "1. **Strong baseline**: One epoch gets you 92% with minimal tuning.\n",
    "2. **Recall vs. Precision trade-off**:\n",
    "\n",
    "   * The model is maximizing recall for geography and precision for physics. We could tweak class weights or threshold to get a different balance.\n",
    "3. **Error focus**:\n",
    "\n",
    "   * Most mistakes are labeling biology/physics as geography → consider adding more non-geography cues or balancing examples.\n",
    "\n",
    "---\n",
    "\n",
    "#### Next Steps\n",
    "\n",
    "* **More epochs** (2–4): let BERT refine its classification head.\n",
    "* **Learning rate sweep**: try 3e-5 or warmup + decay schedule.\n",
    "* **Class-weighted loss** or **focal loss**: penalize over­predicting geography.\n",
    "* **Feature pruning**: drop long “lecture”/“solution” fields if they dilute the question signal.\n",
    "* **Data augmentation**: paraphrase questions for physics/biology to diversify patterns.\n"
   ]
  },
  {
   "cell_type": "markdown",
   "id": "fff942a2",
   "metadata": {},
   "source": [
    "### 2nd Model\n",
    "\n",
    "Task: **Topic Classification**\n",
    "\n",
    "Labels: **['biology', 'physics', 'geography', 'writing-strategies', 'figurative-language', 'chemistry', 'earth-science']**\n",
    "\n",
    "Data consisted of these fields: **['question']**\n",
    "\n",
    "Training Size: **300 records per topic** \n",
    "\n",
    "Validation Size: **200 records per topic** \n",
    "\n",
    "Training arguments: \n",
    "- num_train_epochs=1,                    # Epochs - start with fewer epochs for fast training\n",
    "- per_device_train_batch_size=8,         # Small batch size due to limited GPU memory\n",
    "- per_device_eval_batch_size=16,         # Larger batch size for evaluation\n",
    "- gradient_accumulation_steps=4,         # Accumulate gradients to simulate a larger batch size\n",
    "- eval_strategy=\"steps\",                 # Evaluate at the end of every epoch\n",
    "- save_strategy=\"steps\",                 # Evaluate at the end of every epoch\n",
    "- logging_dir=\"./logs\",                  # Directory for logging\n",
    "- logging_steps=10,                     # Log every 100 steps\n",
    "- learning_rate=2e-5,                    # Standard learning rate for fine-tuning BERT\n",
    "- weight_decay=0.01,                     # Regularization to prevent overfitting\n",
    "- adam_epsilon=1e-8,                     # Adam optimizer epsilon\n",
    "- fp16=True,                             # Enable mixed precision (FP16)\n",
    "- load_best_model_at_end=True,           # Load the best model based on evaluation metrics\n",
    "- metric_for_best_model=\"eval_loss\",      # Choose evaluation metric to monitor for early stopping\n",
    "- dataloader_num_workers=2,              # Use a couple of workers for data loading (adjust based on CPU cores)\n",
    "- dataloader_pin_memory=True            # Pin memory for faster data loading"
   ]
  },
  {
   "cell_type": "code",
   "execution_count": 173,
   "id": "7d231151",
   "metadata": {},
   "outputs": [],
   "source": [
    "model_path = './models/7-labels-bert'\n",
    "tokenizer = AutoTokenizer.from_pretrained(model_path)\n",
    "model = AutoModelForSequenceClassification.from_pretrained(model_path).to(device)"
   ]
  },
  {
   "cell_type": "code",
   "execution_count": 113,
   "id": "acca9026",
   "metadata": {},
   "outputs": [
    {
     "data": {
      "text/plain": [
       "'physics'"
      ]
     },
     "execution_count": 113,
     "metadata": {},
     "output_type": "execute_result"
    }
   ],
   "source": [
    "predict('the distance between two points is 10km, I am traveling from point A to point B at a speed of 5km/h. How much time do I need to get from point A to point B?')"
   ]
  },
  {
   "cell_type": "code",
   "execution_count": 114,
   "id": "ede229d2",
   "metadata": {},
   "outputs": [
    {
     "data": {
      "text/plain": [
       "'writing-strategies'"
      ]
     },
     "execution_count": 114,
     "metadata": {},
     "output_type": "execute_result"
    }
   ],
   "source": [
    "predict('Effective writing strategies include planning, drafting, revising, and editing to clearly communicate ideas and engage the reader.')"
   ]
  },
  {
   "cell_type": "code",
   "execution_count": null,
   "id": "92a0ffa7",
   "metadata": {},
   "outputs": [],
   "source": [
    "test = prepare_dataset_for_classification(\n",
    "    dataset, \n",
    "    \"test\", \n",
    "    \"topic\", \n",
    "    ['biology', 'physics', 'geography', 'writing-strategies', 'figurative-language', 'chemistry', 'earth-science'],\n",
    "    ['question'],\n",
    "    shuffle=True,\n",
    "    random_state=None,\n",
    "    max_items_per_class=300\n",
    ")\n",
    "\n",
    "testDataset = Dataset.from_dict({\n",
    "    'text': test['data'],\n",
    "    'label': test['target']\n",
    "})"
   ]
  },
  {
   "cell_type": "code",
   "execution_count": null,
   "id": "6f98a27d",
   "metadata": {},
   "outputs": [
    {
     "data": {
      "application/vnd.jupyter.widget-view+json": {
       "model_id": "5d735c8fcf4146e583cab311b25606d4",
       "version_major": 2,
       "version_minor": 0
      },
      "text/plain": [
       "Map:   0%|          | 0/1901 [00:00<?, ? examples/s]"
      ]
     },
     "metadata": {},
     "output_type": "display_data"
    }
   ],
   "source": [
    "def tokenize_function(examples):\n",
    "    return tokenizer(examples[\"text\"], padding=True, truncation=True,)\n",
    "\n",
    "tokenized_testingData = testDataset.map(tokenize_function, batched=True)"
   ]
  },
  {
   "cell_type": "code",
   "execution_count": null,
   "id": "378788bf",
   "metadata": {},
   "outputs": [
    {
     "name": "stderr",
     "output_type": "stream",
     "text": [
      "Using the `WANDB_DISABLED` environment variable is deprecated and will be removed in v5. Use the --report_to flag to control the integrations used for logging result (for instance --report_to none).\n",
      "C:\\Users\\chris\\AppData\\Local\\Temp\\ipykernel_16920\\2473200559.py:12: FutureWarning: `tokenizer` is deprecated and will be removed in version 5.0.0 for `Trainer.__init__`. Use `processing_class` instead.\n",
      "  trainer = Trainer(\n"
     ]
    }
   ],
   "source": [
    "from transformers import Trainer, TrainingArguments\n",
    "\n",
    "training_args = TrainingArguments()\n",
    "\n",
    "trainer = Trainer(\n",
    "    model=model,\n",
    "    args=training_args,\n",
    "    tokenizer=tokenizer\n",
    ")"
   ]
  },
  {
   "cell_type": "code",
   "execution_count": 106,
   "id": "6cac62a3",
   "metadata": {},
   "outputs": [
    {
     "data": {
      "text/html": [],
      "text/plain": [
       "<IPython.core.display.HTML object>"
      ]
     },
     "metadata": {},
     "output_type": "display_data"
    }
   ],
   "source": [
    "preds = trainer.predict(tokenized_testingData)"
   ]
  },
  {
   "cell_type": "code",
   "execution_count": null,
   "id": "25a6fa2e",
   "metadata": {},
   "outputs": [
    {
     "name": "stdout",
     "output_type": "stream",
     "text": [
      "Classification Report:\n"
     ]
    },
    {
     "data": {
      "text/html": [
       "<style type=\"text/css\">\n",
       "#T_cacdf_row0_col0, #T_cacdf_row2_col1, #T_cacdf_row2_col2, #T_cacdf_row8_col3, #T_cacdf_row9_col3 {\n",
       "  background-color: #08306b;\n",
       "  color: #f1f1f1;\n",
       "}\n",
       "#T_cacdf_row0_col1 {\n",
       "  background-color: #a9cfe5;\n",
       "  color: #000000;\n",
       "}\n",
       "#T_cacdf_row0_col2 {\n",
       "  background-color: #3e8ec4;\n",
       "  color: #f1f1f1;\n",
       "}\n",
       "#T_cacdf_row0_col3, #T_cacdf_row1_col3, #T_cacdf_row2_col3, #T_cacdf_row3_col3 {\n",
       "  background-color: #d8e7f5;\n",
       "  color: #000000;\n",
       "}\n",
       "#T_cacdf_row1_col0 {\n",
       "  background-color: #125ea6;\n",
       "  color: #f1f1f1;\n",
       "}\n",
       "#T_cacdf_row1_col1 {\n",
       "  background-color: #c6dbef;\n",
       "  color: #000000;\n",
       "}\n",
       "#T_cacdf_row1_col2 {\n",
       "  background-color: #79b5d9;\n",
       "  color: #000000;\n",
       "}\n",
       "#T_cacdf_row2_col0 {\n",
       "  background-color: #125da6;\n",
       "  color: #f1f1f1;\n",
       "}\n",
       "#T_cacdf_row3_col0 {\n",
       "  background-color: #a5cde3;\n",
       "  color: #000000;\n",
       "}\n",
       "#T_cacdf_row3_col1, #T_cacdf_row3_col2, #T_cacdf_row4_col0, #T_cacdf_row7_col3 {\n",
       "  background-color: #f7fbff;\n",
       "  color: #000000;\n",
       "}\n",
       "#T_cacdf_row4_col1, #T_cacdf_row9_col0 {\n",
       "  background-color: #4695c8;\n",
       "  color: #f1f1f1;\n",
       "}\n",
       "#T_cacdf_row4_col2 {\n",
       "  background-color: #d6e6f4;\n",
       "  color: #000000;\n",
       "}\n",
       "#T_cacdf_row4_col3 {\n",
       "  background-color: #dce9f6;\n",
       "  color: #000000;\n",
       "}\n",
       "#T_cacdf_row5_col0 {\n",
       "  background-color: #2171b5;\n",
       "  color: #f1f1f1;\n",
       "}\n",
       "#T_cacdf_row5_col1 {\n",
       "  background-color: #084d96;\n",
       "  color: #f1f1f1;\n",
       "}\n",
       "#T_cacdf_row5_col2 {\n",
       "  background-color: #08519c;\n",
       "  color: #f1f1f1;\n",
       "}\n",
       "#T_cacdf_row5_col3 {\n",
       "  background-color: #e1edf8;\n",
       "  color: #000000;\n",
       "}\n",
       "#T_cacdf_row6_col0 {\n",
       "  background-color: #75b4d8;\n",
       "  color: #000000;\n",
       "}\n",
       "#T_cacdf_row6_col1 {\n",
       "  background-color: #2070b4;\n",
       "  color: #f1f1f1;\n",
       "}\n",
       "#T_cacdf_row6_col2 {\n",
       "  background-color: #4b98ca;\n",
       "  color: #f1f1f1;\n",
       "}\n",
       "#T_cacdf_row6_col3 {\n",
       "  background-color: #e0ecf8;\n",
       "  color: #000000;\n",
       "}\n",
       "#T_cacdf_row7_col0 {\n",
       "  background-color: #4e9acb;\n",
       "  color: #f1f1f1;\n",
       "}\n",
       "#T_cacdf_row7_col1, #T_cacdf_row7_col2, #T_cacdf_row9_col1 {\n",
       "  background-color: #63a8d3;\n",
       "  color: #f1f1f1;\n",
       "}\n",
       "#T_cacdf_row8_col0 {\n",
       "  background-color: #4997c9;\n",
       "  color: #f1f1f1;\n",
       "}\n",
       "#T_cacdf_row8_col1 {\n",
       "  background-color: #5ba3d0;\n",
       "  color: #f1f1f1;\n",
       "}\n",
       "#T_cacdf_row8_col2 {\n",
       "  background-color: #60a7d2;\n",
       "  color: #f1f1f1;\n",
       "}\n",
       "#T_cacdf_row9_col2 {\n",
       "  background-color: #64a9d3;\n",
       "  color: #f1f1f1;\n",
       "}\n",
       "</style>\n",
       "<table id=\"T_cacdf\">\n",
       "  <thead>\n",
       "    <tr>\n",
       "      <th class=\"blank level0\" >&nbsp;</th>\n",
       "      <th id=\"T_cacdf_level0_col0\" class=\"col_heading level0 col0\" >precision</th>\n",
       "      <th id=\"T_cacdf_level0_col1\" class=\"col_heading level0 col1\" >recall</th>\n",
       "      <th id=\"T_cacdf_level0_col2\" class=\"col_heading level0 col2\" >f1-score</th>\n",
       "      <th id=\"T_cacdf_level0_col3\" class=\"col_heading level0 col3\" >support</th>\n",
       "    </tr>\n",
       "  </thead>\n",
       "  <tbody>\n",
       "    <tr>\n",
       "      <th id=\"T_cacdf_level0_row0\" class=\"row_heading level0 row0\" >biology</th>\n",
       "      <td id=\"T_cacdf_row0_col0\" class=\"data row0 col0\" >0.98</td>\n",
       "      <td id=\"T_cacdf_row0_col1\" class=\"data row0 col1\" >0.85</td>\n",
       "      <td id=\"T_cacdf_row0_col2\" class=\"data row0 col2\" >0.91</td>\n",
       "      <td id=\"T_cacdf_row0_col3\" class=\"data row0 col3\" >300.00</td>\n",
       "    </tr>\n",
       "    <tr>\n",
       "      <th id=\"T_cacdf_level0_row1\" class=\"row_heading level0 row1\" >physics</th>\n",
       "      <td id=\"T_cacdf_row1_col0\" class=\"data row1 col0\" >0.94</td>\n",
       "      <td id=\"T_cacdf_row1_col1\" class=\"data row1 col1\" >0.83</td>\n",
       "      <td id=\"T_cacdf_row1_col2\" class=\"data row1 col2\" >0.88</td>\n",
       "      <td id=\"T_cacdf_row1_col3\" class=\"data row1 col3\" >300.00</td>\n",
       "    </tr>\n",
       "    <tr>\n",
       "      <th id=\"T_cacdf_level0_row2\" class=\"row_heading level0 row2\" >geography</th>\n",
       "      <td id=\"T_cacdf_row2_col0\" class=\"data row2 col0\" >0.94</td>\n",
       "      <td id=\"T_cacdf_row2_col1\" class=\"data row2 col1\" >1.00</td>\n",
       "      <td id=\"T_cacdf_row2_col2\" class=\"data row2 col2\" >0.97</td>\n",
       "      <td id=\"T_cacdf_row2_col3\" class=\"data row2 col3\" >300.00</td>\n",
       "    </tr>\n",
       "    <tr>\n",
       "      <th id=\"T_cacdf_level0_row3\" class=\"row_heading level0 row3\" >writing-strategies</th>\n",
       "      <td id=\"T_cacdf_row3_col0\" class=\"data row3 col0\" >0.84</td>\n",
       "      <td id=\"T_cacdf_row3_col1\" class=\"data row3 col1\" >0.77</td>\n",
       "      <td id=\"T_cacdf_row3_col2\" class=\"data row3 col2\" >0.81</td>\n",
       "      <td id=\"T_cacdf_row3_col3\" class=\"data row3 col3\" >300.00</td>\n",
       "    </tr>\n",
       "    <tr>\n",
       "      <th id=\"T_cacdf_level0_row4\" class=\"row_heading level0 row4\" >figurative-language</th>\n",
       "      <td id=\"T_cacdf_row4_col0\" class=\"data row4 col0\" >0.77</td>\n",
       "      <td id=\"T_cacdf_row4_col1\" class=\"data row4 col1\" >0.91</td>\n",
       "      <td id=\"T_cacdf_row4_col2\" class=\"data row4 col2\" >0.83</td>\n",
       "      <td id=\"T_cacdf_row4_col3\" class=\"data row4 col3\" >267.00</td>\n",
       "    </tr>\n",
       "    <tr>\n",
       "      <th id=\"T_cacdf_level0_row5\" class=\"row_heading level0 row5\" >chemistry</th>\n",
       "      <td id=\"T_cacdf_row5_col0\" class=\"data row5 col0\" >0.92</td>\n",
       "      <td id=\"T_cacdf_row5_col1\" class=\"data row5 col1\" >0.97</td>\n",
       "      <td id=\"T_cacdf_row5_col2\" class=\"data row5 col2\" >0.95</td>\n",
       "      <td id=\"T_cacdf_row5_col3\" class=\"data row5 col3\" >213.00</td>\n",
       "    </tr>\n",
       "    <tr>\n",
       "      <th id=\"T_cacdf_level0_row6\" class=\"row_heading level0 row6\" >earth-science</th>\n",
       "      <td id=\"T_cacdf_row6_col0\" class=\"data row6 col0\" >0.87</td>\n",
       "      <td id=\"T_cacdf_row6_col1\" class=\"data row6 col1\" >0.94</td>\n",
       "      <td id=\"T_cacdf_row6_col2\" class=\"data row6 col2\" >0.90</td>\n",
       "      <td id=\"T_cacdf_row6_col3\" class=\"data row6 col3\" >221.00</td>\n",
       "    </tr>\n",
       "    <tr>\n",
       "      <th id=\"T_cacdf_level0_row7\" class=\"row_heading level0 row7\" >accuracy</th>\n",
       "      <td id=\"T_cacdf_row7_col0\" class=\"data row7 col0\" >0.89</td>\n",
       "      <td id=\"T_cacdf_row7_col1\" class=\"data row7 col1\" >0.89</td>\n",
       "      <td id=\"T_cacdf_row7_col2\" class=\"data row7 col2\" >0.89</td>\n",
       "      <td id=\"T_cacdf_row7_col3\" class=\"data row7 col3\" >0.89</td>\n",
       "    </tr>\n",
       "    <tr>\n",
       "      <th id=\"T_cacdf_level0_row8\" class=\"row_heading level0 row8\" >macro avg</th>\n",
       "      <td id=\"T_cacdf_row8_col0\" class=\"data row8 col0\" >0.89</td>\n",
       "      <td id=\"T_cacdf_row8_col1\" class=\"data row8 col1\" >0.90</td>\n",
       "      <td id=\"T_cacdf_row8_col2\" class=\"data row8 col2\" >0.89</td>\n",
       "      <td id=\"T_cacdf_row8_col3\" class=\"data row8 col3\" >1901.00</td>\n",
       "    </tr>\n",
       "    <tr>\n",
       "      <th id=\"T_cacdf_level0_row9\" class=\"row_heading level0 row9\" >weighted avg</th>\n",
       "      <td id=\"T_cacdf_row9_col0\" class=\"data row9 col0\" >0.90</td>\n",
       "      <td id=\"T_cacdf_row9_col1\" class=\"data row9 col1\" >0.89</td>\n",
       "      <td id=\"T_cacdf_row9_col2\" class=\"data row9 col2\" >0.89</td>\n",
       "      <td id=\"T_cacdf_row9_col3\" class=\"data row9 col3\" >1901.00</td>\n",
       "    </tr>\n",
       "  </tbody>\n",
       "</table>\n"
      ],
      "text/plain": [
       "<pandas.io.formats.style.Styler at 0x204a377c3d0>"
      ]
     },
     "metadata": {},
     "output_type": "display_data"
    },
    {
     "name": "stdout",
     "output_type": "stream",
     "text": [
      "Confusion Matrix:\n"
     ]
    },
    {
     "data": {
      "image/png": "[encoded data removed]",
      "text/plain": [
       "<Figure size 1000x600 with 2 Axes>"
      ]
     },
     "metadata": {},
     "output_type": "display_data"
    }
   ],
   "source": [
    "import pandas as pd\n",
    "import seaborn as sns\n",
    "import matplotlib.pyplot as plt\n",
    "from sklearn.metrics import classification_report, confusion_matrix\n",
    "\n",
    "# Classification report as a DataFrame\n",
    "y_pred = torch.argmax(torch.tensor(preds.predictions), dim=1).numpy()\n",
    "report_dict = classification_report(test['target'], y_pred, target_names=test['target_names'], output_dict=True)\n",
    "report_df = pd.DataFrame(report_dict).transpose()\n",
    "\n",
    "# Display nicely formatted classification report\n",
    "print(\"Classification Report:\")\n",
    "display(report_df.style.background_gradient(cmap='Blues').format(precision=2))\n",
    "\n",
    "# Confusion matrix visualization\n",
    "cm = confusion_matrix(test['target'], y_pred)\n",
    "plt.figure(figsize=(10, 6))\n",
    "sns.heatmap(cm, annot=True, fmt=\"d\", cmap=\"Blues\", xticklabels=test['target_names'], yticklabels=test['target_names'])\n",
    "plt.xlabel(\"Predicted Label\")\n",
    "plt.ylabel(\"True Label\")\n",
    "plt.title(\"Confusion Matrix\")\n",
    "print(\"Confusion Matrix:\")\n",
    "plt.show()"
   ]
  },
  {
   "cell_type": "markdown",
   "id": "f779ec05",
   "metadata": {},
   "source": [
    "#### **Overall Performance**\n",
    "- Accuracy: 89% – Your model is performing well, correctly classifying nearly 9 out of 10 examples.\n",
    "- Macro F1-score: 0.89 – High and balanced performance across all classes, regardless of class size.\n",
    "- Weighted F1-score: 0.89 – Good overall performance, taking class distribution into account.\n",
    "\n",
    "#### **Strongest Classes:**\n",
    "- Geography: Near-perfect recall (1.00) and high F1 (0.97) – your model consistently predicts this well.\n",
    "- Chemistry & Earth-science: Excellent F1-scores and recall, indicating accurate and consistent predictions.\n",
    "\n",
    "#### **Moderate Classes:**\n",
    "- Biology & Physics: High precision but slightly lower recall – model is cautious but occasionally misses true positives.\n",
    "\n",
    "#### **Weaker Classes:**\n",
    "- Writing-strategies & Figurative-language: Lower precision/recall – these are likely harder for the model due to overlap in language or less distinct patterns.\n",
    "\n",
    "#### **Performance Efficiency**\n",
    "- Runtime: ~162s, ~11.7 samples/sec – reasonable for evaluation with BERT on ~1900 examples.\n",
    "\n",
    "#### **Final Takeaways:**\n",
    "- The model generalizes well across most classes.\n",
    "- A few underperforming classes (e.g. figurative-language, writing-strategies) may benefit from:\n",
    "    - More training samples\n",
    "    - Better feature engineering\n",
    "    - Data augmentation\n",
    "    - Class-specific fine-tuning"
   ]
  },
  {
   "cell_type": "markdown",
   "id": "17044028",
   "metadata": {},
   "source": [
    "### 3rd Model\n",
    "\n",
    "Task: **Topic Classification**\n",
    "\n",
    "Labels: **['biology', 'physics', 'geography', 'writing-strategies', 'figurative-language', 'chemistry', 'earth-science']**\n",
    "\n",
    "Data consisted of these fields: **['question', 'answer', 'hint', 'solution', 'lecture']**\n",
    "\n",
    "Training Size: **300 records per topic** \n",
    "\n",
    "Validation Size: **200 records per topic** \n",
    "\n",
    "training arguments: \n",
    "- num_train_epochs=1,                    # Epochs - start with fewer epochs for fast training\n",
    "- per_device_train_batch_size=8,         # Small batch size due to limited GPU memory\n",
    "- per_device_eval_batch_size=16,         # Larger batch size for evaluation\n",
    "- gradient_accumulation_steps=4,         # Accumulate gradients to simulate a larger batch size\n",
    "- eval_strategy=\"steps\",                 # Evaluate at the end of every epoch\n",
    "- save_strategy=\"steps\",                 # Evaluate at the end of every epoch\n",
    "- logging_dir=\"./logs\",                  # Directory for logging\n",
    "- logging_steps=10,                     # Log every 100 steps\n",
    "- learning_rate=2e-5,                    # Standard learning rate for fine-tuning BERT\n",
    "- weight_decay=0.01,                     # Regularization to prevent overfitting\n",
    "- adam_epsilon=1e-8,                     # Adam optimizer epsilon\n",
    "- fp16=True,                             # Enable mixed precision (FP16)\n",
    "- load_best_model_at_end=True,           # Load the best model based on evaluation metrics\n",
    "- metric_for_best_model=\"eval_loss\",      # Choose evaluation metric to monitor for early stopping\n",
    "- dataloader_num_workers=2,              # Use a couple of workers for data loading (adjust based on CPU cores)\n",
    "- dataloader_pin_memory=True            # Pin memory for faster data loading"
   ]
  },
  {
   "cell_type": "code",
   "execution_count": 175,
   "id": "69d81732",
   "metadata": {},
   "outputs": [],
   "source": [
    "model_path = './models/7-labels-bert-b'\n",
    "tokenizer = AutoTokenizer.from_pretrained(model_path)\n",
    "model = AutoModelForSequenceClassification.from_pretrained(model_path).to(device)"
   ]
  },
  {
   "cell_type": "code",
   "execution_count": 176,
   "id": "d283946c",
   "metadata": {},
   "outputs": [
    {
     "data": {
      "text/plain": [
       "'geography'"
      ]
     },
     "execution_count": 176,
     "metadata": {},
     "output_type": "execute_result"
    }
   ],
   "source": [
    "predict('the distance between two points is 10km, I am traveling from point A to point B at a speed of 5km/h. How much time do I need to get from point A to point B?')"
   ]
  },
  {
   "cell_type": "code",
   "execution_count": 177,
   "id": "f7c5a95b",
   "metadata": {},
   "outputs": [
    {
     "data": {
      "text/plain": [
       "'writing-strategies'"
      ]
     },
     "execution_count": 177,
     "metadata": {},
     "output_type": "execute_result"
    }
   ],
   "source": [
    "predict('Effective writing strategies include planning, drafting, revising, and editing to clearly communicate ideas and engage the reader.')"
   ]
  },
  {
   "cell_type": "code",
   "execution_count": 178,
   "id": "3fc78383",
   "metadata": {},
   "outputs": [],
   "source": [
    "test = prepare_dataset_for_classification(\n",
    "    dataset, \n",
    "    \"test\", \n",
    "    \"topic\", \n",
    "    ['biology', 'physics', 'geography', 'writing-strategies', 'figurative-language', 'chemistry', 'earth-science'],\n",
    "    ['question'],\n",
    "    shuffle=True,\n",
    "    random_state=None,\n",
    "    max_items_per_class=300\n",
    ")\n",
    "\n",
    "testDataset = Dataset.from_dict({\n",
    "    'text': test['data'],\n",
    "    'label': test['target']\n",
    "})"
   ]
  },
  {
   "cell_type": "code",
   "execution_count": 179,
   "id": "3edac9fa",
   "metadata": {},
   "outputs": [
    {
     "data": {
      "application/vnd.jupyter.widget-view+json": {
       "model_id": "8311625a662643278af326161c01d0b9",
       "version_major": 2,
       "version_minor": 0
      },
      "text/plain": [
       "Map:   0%|          | 0/1901 [00:00<?, ? examples/s]"
      ]
     },
     "metadata": {},
     "output_type": "display_data"
    }
   ],
   "source": [
    "def tokenize_function(examples):\n",
    "    return tokenizer(examples[\"text\"], padding=True, truncation=True,)\n",
    "\n",
    "tokenized_testingData = testDataset.map(tokenize_function, batched=True)"
   ]
  },
  {
   "cell_type": "code",
   "execution_count": 180,
   "id": "3b88be09",
   "metadata": {},
   "outputs": [
    {
     "name": "stderr",
     "output_type": "stream",
     "text": [
      "Using the `WANDB_DISABLED` environment variable is deprecated and will be removed in v5. Use the --report_to flag to control the integrations used for logging result (for instance --report_to none).\n",
      "C:\\Users\\chris\\AppData\\Local\\Temp\\ipykernel_16920\\1057010216.py:5: FutureWarning: `tokenizer` is deprecated and will be removed in version 5.0.0 for `Trainer.__init__`. Use `processing_class` instead.\n",
      "  trainer = Trainer(\n"
     ]
    }
   ],
   "source": [
    "from transformers import Trainer, TrainingArguments\n",
    "\n",
    "training_args = TrainingArguments()\n",
    "\n",
    "trainer = Trainer(\n",
    "    model=model,\n",
    "    args=training_args,\n",
    "    tokenizer=tokenizer\n",
    ")"
   ]
  },
  {
   "cell_type": "code",
   "execution_count": 181,
   "id": "03bf0589",
   "metadata": {},
   "outputs": [
    {
     "data": {
      "text/html": [],
      "text/plain": [
       "<IPython.core.display.HTML object>"
      ]
     },
     "metadata": {},
     "output_type": "display_data"
    }
   ],
   "source": [
    "preds = trainer.predict(tokenized_testingData)"
   ]
  },
  {
   "cell_type": "code",
   "execution_count": 182,
   "id": "c0529026",
   "metadata": {},
   "outputs": [
    {
     "name": "stdout",
     "output_type": "stream",
     "text": [
      "Classification Report:\n"
     ]
    },
    {
     "data": {
      "text/html": [
       "<style type=\"text/css\">\n",
       "#T_ddc11_row0_col0 {\n",
       "  background-color: #9cc9e1;\n",
       "  color: #000000;\n",
       "}\n",
       "#T_ddc11_row0_col1 {\n",
       "  background-color: #ddeaf7;\n",
       "  color: #000000;\n",
       "}\n",
       "#T_ddc11_row0_col2 {\n",
       "  background-color: #57a0ce;\n",
       "  color: #f1f1f1;\n",
       "}\n",
       "#T_ddc11_row0_col3, #T_ddc11_row1_col3, #T_ddc11_row2_col3, #T_ddc11_row3_col3 {\n",
       "  background-color: #d8e7f5;\n",
       "  color: #000000;\n",
       "}\n",
       "#T_ddc11_row1_col0, #T_ddc11_row1_col1, #T_ddc11_row1_col2, #T_ddc11_row7_col3 {\n",
       "  background-color: #f7fbff;\n",
       "  color: #000000;\n",
       "}\n",
       "#T_ddc11_row2_col0 {\n",
       "  background-color: #d0e1f2;\n",
       "  color: #000000;\n",
       "}\n",
       "#T_ddc11_row2_col1, #T_ddc11_row4_col2, #T_ddc11_row5_col0, #T_ddc11_row8_col3, #T_ddc11_row9_col3 {\n",
       "  background-color: #08306b;\n",
       "  color: #f1f1f1;\n",
       "}\n",
       "#T_ddc11_row2_col2 {\n",
       "  background-color: #083877;\n",
       "  color: #f1f1f1;\n",
       "}\n",
       "#T_ddc11_row3_col0 {\n",
       "  background-color: #cadef0;\n",
       "  color: #000000;\n",
       "}\n",
       "#T_ddc11_row3_col1 {\n",
       "  background-color: #dae8f6;\n",
       "  color: #000000;\n",
       "}\n",
       "#T_ddc11_row3_col2 {\n",
       "  background-color: #66abd4;\n",
       "  color: #f1f1f1;\n",
       "}\n",
       "#T_ddc11_row4_col0 {\n",
       "  background-color: #3989c1;\n",
       "  color: #f1f1f1;\n",
       "}\n",
       "#T_ddc11_row4_col1 {\n",
       "  background-color: #c9ddf0;\n",
       "  color: #000000;\n",
       "}\n",
       "#T_ddc11_row4_col3 {\n",
       "  background-color: #dce9f6;\n",
       "  color: #000000;\n",
       "}\n",
       "#T_ddc11_row5_col1 {\n",
       "  background-color: #eef5fc;\n",
       "  color: #000000;\n",
       "}\n",
       "#T_ddc11_row5_col2 {\n",
       "  background-color: #c3daee;\n",
       "  color: #000000;\n",
       "}\n",
       "#T_ddc11_row5_col3 {\n",
       "  background-color: #e1edf8;\n",
       "  color: #000000;\n",
       "}\n",
       "#T_ddc11_row6_col0 {\n",
       "  background-color: #dbe9f6;\n",
       "  color: #000000;\n",
       "}\n",
       "#T_ddc11_row6_col1 {\n",
       "  background-color: #f6faff;\n",
       "  color: #000000;\n",
       "}\n",
       "#T_ddc11_row6_col2 {\n",
       "  background-color: #f2f8fd;\n",
       "  color: #000000;\n",
       "}\n",
       "#T_ddc11_row6_col3 {\n",
       "  background-color: #e0ecf8;\n",
       "  color: #000000;\n",
       "}\n",
       "#T_ddc11_row7_col0, #T_ddc11_row7_col1, #T_ddc11_row9_col1 {\n",
       "  background-color: #c8dcf0;\n",
       "  color: #000000;\n",
       "}\n",
       "#T_ddc11_row7_col2 {\n",
       "  background-color: #3080bd;\n",
       "  color: #f1f1f1;\n",
       "}\n",
       "#T_ddc11_row8_col0 {\n",
       "  background-color: #9fcae1;\n",
       "  color: #000000;\n",
       "}\n",
       "#T_ddc11_row8_col1 {\n",
       "  background-color: #cbdef1;\n",
       "  color: #000000;\n",
       "}\n",
       "#T_ddc11_row8_col2 {\n",
       "  background-color: #75b4d8;\n",
       "  color: #000000;\n",
       "}\n",
       "#T_ddc11_row9_col0 {\n",
       "  background-color: #a6cee4;\n",
       "  color: #000000;\n",
       "}\n",
       "#T_ddc11_row9_col2 {\n",
       "  background-color: #6dafd7;\n",
       "  color: #f1f1f1;\n",
       "}\n",
       "</style>\n",
       "<table id=\"T_ddc11\">\n",
       "  <thead>\n",
       "    <tr>\n",
       "      <th class=\"blank level0\" >&nbsp;</th>\n",
       "      <th id=\"T_ddc11_level0_col0\" class=\"col_heading level0 col0\" >precision</th>\n",
       "      <th id=\"T_ddc11_level0_col1\" class=\"col_heading level0 col1\" >recall</th>\n",
       "      <th id=\"T_ddc11_level0_col2\" class=\"col_heading level0 col2\" >f1-score</th>\n",
       "      <th id=\"T_ddc11_level0_col3\" class=\"col_heading level0 col3\" >support</th>\n",
       "    </tr>\n",
       "  </thead>\n",
       "  <tbody>\n",
       "    <tr>\n",
       "      <th id=\"T_ddc11_level0_row0\" class=\"row_heading level0 row0\" >biology</th>\n",
       "      <td id=\"T_ddc11_row0_col0\" class=\"data row0 col0\" >0.38</td>\n",
       "      <td id=\"T_ddc11_row0_col1\" class=\"data row0 col1\" >0.13</td>\n",
       "      <td id=\"T_ddc11_row0_col2\" class=\"data row0 col2\" >0.19</td>\n",
       "      <td id=\"T_ddc11_row0_col3\" class=\"data row0 col3\" >300.00</td>\n",
       "    </tr>\n",
       "    <tr>\n",
       "      <th id=\"T_ddc11_level0_row1\" class=\"row_heading level0 row1\" >physics</th>\n",
       "      <td id=\"T_ddc11_row1_col0\" class=\"data row1 col0\" >0.00</td>\n",
       "      <td id=\"T_ddc11_row1_col1\" class=\"data row1 col1\" >0.00</td>\n",
       "      <td id=\"T_ddc11_row1_col2\" class=\"data row1 col2\" >0.00</td>\n",
       "      <td id=\"T_ddc11_row1_col3\" class=\"data row1 col3\" >300.00</td>\n",
       "    </tr>\n",
       "    <tr>\n",
       "      <th id=\"T_ddc11_level0_row2\" class=\"row_heading level0 row2\" >geography</th>\n",
       "      <td id=\"T_ddc11_row2_col0\" class=\"data row2 col0\" >0.20</td>\n",
       "      <td id=\"T_ddc11_row2_col1\" class=\"data row2 col1\" >1.00</td>\n",
       "      <td id=\"T_ddc11_row2_col2\" class=\"data row2 col2\" >0.34</td>\n",
       "      <td id=\"T_ddc11_row2_col3\" class=\"data row2 col3\" >300.00</td>\n",
       "    </tr>\n",
       "    <tr>\n",
       "      <th id=\"T_ddc11_level0_row3\" class=\"row_heading level0 row3\" >writing-strategies</th>\n",
       "      <td id=\"T_ddc11_row3_col0\" class=\"data row3 col0\" >0.23</td>\n",
       "      <td id=\"T_ddc11_row3_col1\" class=\"data row3 col1\" >0.15</td>\n",
       "      <td id=\"T_ddc11_row3_col2\" class=\"data row3 col2\" >0.18</td>\n",
       "      <td id=\"T_ddc11_row3_col3\" class=\"data row3 col3\" >300.00</td>\n",
       "    </tr>\n",
       "    <tr>\n",
       "      <th id=\"T_ddc11_level0_row4\" class=\"row_heading level0 row4\" >figurative-language</th>\n",
       "      <td id=\"T_ddc11_row4_col0\" class=\"data row4 col0\" >0.66</td>\n",
       "      <td id=\"T_ddc11_row4_col1\" class=\"data row4 col1\" >0.24</td>\n",
       "      <td id=\"T_ddc11_row4_col2\" class=\"data row4 col2\" >0.35</td>\n",
       "      <td id=\"T_ddc11_row4_col3\" class=\"data row4 col3\" >267.00</td>\n",
       "    </tr>\n",
       "    <tr>\n",
       "      <th id=\"T_ddc11_level0_row5\" class=\"row_heading level0 row5\" >chemistry</th>\n",
       "      <td id=\"T_ddc11_row5_col0\" class=\"data row5 col0\" >1.00</td>\n",
       "      <td id=\"T_ddc11_row5_col1\" class=\"data row5 col1\" >0.05</td>\n",
       "      <td id=\"T_ddc11_row5_col2\" class=\"data row5 col2\" >0.09</td>\n",
       "      <td id=\"T_ddc11_row5_col3\" class=\"data row5 col3\" >213.00</td>\n",
       "    </tr>\n",
       "    <tr>\n",
       "      <th id=\"T_ddc11_level0_row6\" class=\"row_heading level0 row6\" >earth-science</th>\n",
       "      <td id=\"T_ddc11_row6_col0\" class=\"data row6 col0\" >0.14</td>\n",
       "      <td id=\"T_ddc11_row6_col1\" class=\"data row6 col1\" >0.00</td>\n",
       "      <td id=\"T_ddc11_row6_col2\" class=\"data row6 col2\" >0.01</td>\n",
       "      <td id=\"T_ddc11_row6_col3\" class=\"data row6 col3\" >221.00</td>\n",
       "    </tr>\n",
       "    <tr>\n",
       "      <th id=\"T_ddc11_level0_row7\" class=\"row_heading level0 row7\" >accuracy</th>\n",
       "      <td id=\"T_ddc11_row7_col0\" class=\"data row7 col0\" >0.24</td>\n",
       "      <td id=\"T_ddc11_row7_col1\" class=\"data row7 col1\" >0.24</td>\n",
       "      <td id=\"T_ddc11_row7_col2\" class=\"data row7 col2\" >0.24</td>\n",
       "      <td id=\"T_ddc11_row7_col3\" class=\"data row7 col3\" >0.24</td>\n",
       "    </tr>\n",
       "    <tr>\n",
       "      <th id=\"T_ddc11_level0_row8\" class=\"row_heading level0 row8\" >macro avg</th>\n",
       "      <td id=\"T_ddc11_row8_col0\" class=\"data row8 col0\" >0.37</td>\n",
       "      <td id=\"T_ddc11_row8_col1\" class=\"data row8 col1\" >0.22</td>\n",
       "      <td id=\"T_ddc11_row8_col2\" class=\"data row8 col2\" >0.16</td>\n",
       "      <td id=\"T_ddc11_row8_col3\" class=\"data row8 col3\" >1901.00</td>\n",
       "    </tr>\n",
       "    <tr>\n",
       "      <th id=\"T_ddc11_level0_row9\" class=\"row_heading level0 row9\" >weighted avg</th>\n",
       "      <td id=\"T_ddc11_row9_col0\" class=\"data row9 col0\" >0.35</td>\n",
       "      <td id=\"T_ddc11_row9_col1\" class=\"data row9 col1\" >0.24</td>\n",
       "      <td id=\"T_ddc11_row9_col2\" class=\"data row9 col2\" >0.17</td>\n",
       "      <td id=\"T_ddc11_row9_col3\" class=\"data row9 col3\" >1901.00</td>\n",
       "    </tr>\n",
       "  </tbody>\n",
       "</table>\n"
      ],
      "text/plain": [
       "<pandas.io.formats.style.Styler at 0x20521933ee0>"
      ]
     },
     "metadata": {},
     "output_type": "display_data"
    },
    {
     "name": "stdout",
     "output_type": "stream",
     "text": [
      "Confusion Matrix:\n"
     ]
    },
    {
     "data": {
      "image/png": "[encoded data removed]",
      "text/plain": [
       "<Figure size 1000x600 with 2 Axes>"
      ]
     },
     "metadata": {},
     "output_type": "display_data"
    }
   ],
   "source": [
    "import pandas as pd\n",
    "import seaborn as sns\n",
    "import matplotlib.pyplot as plt\n",
    "from sklearn.metrics import classification_report, confusion_matrix\n",
    "\n",
    "# Classification report as a DataFrame\n",
    "y_pred = torch.argmax(torch.tensor(preds.predictions), dim=1).numpy()\n",
    "report_dict = classification_report(test['target'], y_pred, target_names=test['target_names'], output_dict=True)\n",
    "report_df = pd.DataFrame(report_dict).transpose()\n",
    "\n",
    "# Display nicely formatted classification report\n",
    "print(\"Classification Report:\")\n",
    "display(report_df.style.background_gradient(cmap='Blues').format(precision=2))\n",
    "\n",
    "# Confusion matrix visualization\n",
    "cm = confusion_matrix(test['target'], y_pred)\n",
    "plt.figure(figsize=(10, 6))\n",
    "sns.heatmap(cm, annot=True, fmt=\"d\", cmap=\"Blues\", xticklabels=test['target_names'], yticklabels=test['target_names'])\n",
    "plt.xlabel(\"Predicted Label\")\n",
    "plt.ylabel(\"True Label\")\n",
    "plt.title(\"Confusion Matrix\")\n",
    "print(\"Confusion Matrix:\")\n",
    "plt.show()"
   ]
  },
  {
   "cell_type": "markdown",
   "id": "8f1fc8b4",
   "metadata": {},
   "source": [
    "**Analysis of 3rd Model’s Performance**\n",
    "\n",
    "---\n",
    "\n",
    "#### 1. **Overall Metrics**\n",
    "\n",
    "* **Accuracy: 0.24**\n",
    "  Out of 7 classes, the model only gets about **24%** of examples correct—barely above random chance (≈ 1/7 ≈ 14%).\n",
    "\n",
    "* **Macro Avg F1: 0.16**\n",
    "  Averaging unweighted across all classes, the model’s F1 is extremely low, indicating poor per-class performance.\n",
    "\n",
    "* **Weighted Avg F1: 0.17**\n",
    "  Even accounting for class support, the model struggles overall.\n",
    "\n",
    "---\n",
    "\n",
    "#### 2. **Class-by-Class Breakdown**\n",
    "\n",
    "| Class                   | Precision | Recall | F1-score | Support |\n",
    "| ----------------------- | --------- | ------ | -------- | ------- |\n",
    "| **biology**             | 0.38      | 0.13   | 0.19     | 300     |\n",
    "| **physics**             | 0.00      | 0.00   | 0.00     | 300     |\n",
    "| **geography**           | 0.20      | 1.00   | 0.34     | 300     |\n",
    "| **writing-strategies**  | 0.23      | 0.15   | 0.18     | 300     |\n",
    "| **figurative-language** | 0.66      | 0.24   | 0.35     | 267     |\n",
    "| **chemistry**           | 1.00      | 0.05   | 0.09     | 213     |\n",
    "| **earth-science**       | 0.14      | 0.00   | 0.01     | 221     |\n",
    "\n",
    "* **Geography**\n",
    "\n",
    "  * **Recall = 1.00**: the model predicts *every* example as “geography,” so it never misses a geography instance.\n",
    "  * **Precision = 0.20**: but 80% of its “geography” predictions are actually from other classes.\n",
    "  * **F1 = 0.34**: the best among all classes, but still low.\n",
    "\n",
    "* **Chemistry**\n",
    "\n",
    "  * **Precision = 1.00**: every time it predicts “chemistry” (very rare), it’s correct.\n",
    "  * **Recall = 0.05**: it predicts “chemistry” almost never, missing 95% of true chemistry examples.\n",
    "\n",
    "* **Physics & Earth-Science**\n",
    "\n",
    "  * Both have **0 recall**, meaning the model never correctly predicts these classes.\n",
    "  * Physics also has **0 precision**, so it never labels anything as physics at all.\n",
    "\n",
    "* **Biology, Writing-Strategies, Figurative-Language**\n",
    "\n",
    "  * All have modest precision but very low recall (< 25%), so they’re being under-predicted.\n",
    "\n",
    "---\n",
    "\n",
    "#### 3. **Confusion Matrix Patterns**\n",
    "\n",
    "* **Monolithic Prediction**\n",
    "\n",
    "  * The vast majority of *every* true class is predicted as **geography** (see the heavy column for geography).\n",
    "  * True geography rows are perfectly predicted, which inflates geography’s recall to 100%.\n",
    "\n",
    "* **Sparse Other Predictions**\n",
    "\n",
    "  * A handful of biology, writing, or figurative-language predictions creep in, but they’re extremely rare.\n",
    "\n",
    "---\n",
    "\n",
    "#### 4. **Likely Causes**\n",
    "\n",
    "1. **Collapsed to Majority Class**\n",
    "   With 300 examples per class, the model has learned to output “geography” for everything—this “safe” strategy maximizes geography’s recall and overall accuracy initially.\n",
    "\n",
    "2. **Underfitting**\n",
    "\n",
    "   * **1 epoch** of training is insufficient for BERT to learn 7-way distinctions.\n",
    "   * **Very small batch sizes** and heavy feature noise (long “lecture” or “solution” fields) may hamper learning.\n",
    "\n",
    "3. **Imbalanced Learning Dynamics**\n",
    "   Even though classes were balanced in sampling, the model isn’t getting enough signal to differentiate them.\n",
    "\n",
    "---\n",
    "\n",
    "#### 5. **What we could do to improve performance**\n",
    "\n",
    "* **Train Longer**: Increase `num_train_epochs` to 3–5 to allow BERT to adapt its classification head.\n",
    "* **Adjust Learning Rate**: You might need a slightly higher LR (e.g., 3e-5) for faster convergence.\n",
    "* **Prune Inputs**: Use only the **most informative fields** (e.g., question + answer), drop lengthy “lecture”/“solution” text that may drown out the signal.\n",
    "* **Use Class Weights or Focal Loss**: Penalize mistakes on under-predicted classes to force the model to learn their patterns.\n",
    "* **Data Augmentation**: Paraphrase or expand examples for weak classes, so the model sees more varied language.\n",
    "\n",
    "---\n",
    "\n",
    "**Bottom Line**:\n",
    "The model has effectively **memorized one class (“geography”)** as a shortcut. To get a real 7-way classifier, you need more training signal—either via more epochs, better feature selection, stronger regularization, or richer data.\n"
   ]
  }
 ],
 "metadata": {
  "kernelspec": {
   "display_name": ".venv",
   "language": "python",
   "name": "python3"
  },
  "language_info": {
   "codemirror_mode": {
    "name": "ipython",
    "version": 3
   },
   "file_extension": ".py",
   "mimetype": "text/x-python",
   "name": "python",
   "nbconvert_exporter": "python",
   "pygments_lexer": "ipython3",
   "version": "3.9.10"
  }
 },
 "nbformat": 4,
 "nbformat_minor": 5
}
