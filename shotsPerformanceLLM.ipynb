{
 "cells": [
  {
   "cell_type": "code",
   "execution_count": 1,
   "id": "37f941a4",
   "metadata": {},
   "outputs": [],
   "source": [
    "import pandas as pd\n",
    "import random\n",
    "from datasets import load_dataset\n",
    "from transformers import pipeline, AutoTokenizer, AutoModelForCausalLM\n",
    "import torch"
   ]
  },
  {
   "cell_type": "markdown",
   "id": "a52e8c34",
   "metadata": {},
   "source": [
    "# Zero, One and Few Shots Learning"
   ]
  },
  {
   "cell_type": "markdown",
   "id": "b9939f3c",
   "metadata": {},
   "source": [
    "## Loading the LLM\n",
    "We are gonna try the Zero, One and Few Shots Learning on the Google FLAN T5 Large"
   ]
  },
  {
   "cell_type": "code",
   "execution_count": 2,
   "id": "fb6368e8",
   "metadata": {},
   "outputs": [
    {
     "name": "stderr",
     "output_type": "stream",
     "text": [
      "You are using the default legacy behaviour of the <class 'transformers.models.t5.tokenization_t5.T5Tokenizer'>. This is expected, and simply means that the `legacy` (previous) behavior will be used so nothing changes for you. If you want to use the new behaviour, set `legacy=False`. This should only be set if you understand what it means, and thoroughly read the reason why this was added as explained in https://github.com/huggingface/transformers/pull/24565\n"
     ]
    }
   ],
   "source": [
    "from transformers import T5Tokenizer, T5ForConditionalGeneration\n",
    "\n",
    "\n",
    "device = torch.device('cuda' if torch.cuda.is_available() else 'cpu')\n",
    "\n",
    "t5_id = \"google/flan-t5-large\"\n",
    "t5_tokenizer = T5Tokenizer.from_pretrained(t5_id)\n",
    "t5_model = T5ForConditionalGeneration.from_pretrained(t5_id, torch_dtype=torch.bfloat16)\n",
    "\n",
    "device = \"cuda\" if torch.cuda.is_available() else \"cpu\"\n",
    "t5_model = t5_model.to(device)\n"
   ]
  },
  {
   "cell_type": "markdown",
   "id": "5d242eb8",
   "metadata": {},
   "source": [
    "## Loading the Dataset"
   ]
  },
  {
   "cell_type": "code",
   "execution_count": 3,
   "id": "36c95c05",
   "metadata": {},
   "outputs": [],
   "source": [
    "dataset = load_dataset('derek-thomas/ScienceQA')"
   ]
  },
  {
   "cell_type": "code",
   "execution_count": 4,
   "id": "7798bd9b",
   "metadata": {},
   "outputs": [
    {
     "name": "stdout",
     "output_type": "stream",
     "text": [
      "No. of documents: 12726\n",
      "No. of documents: 4241\n",
      "No. of documents: 4241\n",
      "{'image': <PIL.PngImagePlugin.PngImageFile image mode=RGB size=750x429 at 0x14FD4D469F0>, 'question': 'Which of these states is farthest north?', 'choices': ['West Virginia', 'Louisiana', 'Arizona', 'Oklahoma'], 'answer': 0, 'hint': '', 'task': 'closed choice', 'grade': 'grade2', 'subject': 'social science', 'topic': 'geography', 'category': 'Geography', 'skill': 'Read a map: cardinal directions', 'lecture': 'Maps have four cardinal directions, or main directions. Those directions are north, south, east, and west.\\nA compass rose is a set of arrows that point to the cardinal directions. A compass rose usually shows only the first letter of each cardinal direction.\\nThe north arrow points to the North Pole. On most maps, north is at the top of the map.', 'solution': 'To find the answer, look at the compass rose. Look at which way the north arrow is pointing. West Virginia is farthest north.'}\n"
     ]
    }
   ],
   "source": [
    "print(f\"No. of documents: {len(dataset['train'])}\")\n",
    "print(f\"No. of documents: {len(dataset['validation'])}\")\n",
    "print(f\"No. of documents: {len(dataset['test'])}\")\n",
    "\n",
    "example = dataset['train'][0]\n",
    "print(example)"
   ]
  },
  {
   "cell_type": "code",
   "execution_count": 5,
   "id": "fbc70afc",
   "metadata": {},
   "outputs": [],
   "source": [
    "data = dataset[\"train\"]"
   ]
  },
  {
   "cell_type": "code",
   "execution_count": 6,
   "id": "6cf7b5c5",
   "metadata": {},
   "outputs": [
    {
     "name": "stdout",
     "output_type": "stream",
     "text": [
      "Nombre de labels: 26\n",
      "Exemples de labels: ['literacy-in-science', 'us-history', 'vocabulary', 'capitalization', 'punctuation', 'writing-strategies', 'culture', 'geography', 'grammar', 'verbs', 'civics', 'word-study', 'biology', 'figurative-language', 'chemistry', 'phonological-awareness', 'reading-comprehension', 'pronouns', 'global-studies', 'reference-skills', 'physics', 'science-and-engineering-practices', 'earth-science', 'world-history', 'economics', 'units-and-measurement']\n"
     ]
    }
   ],
   "source": [
    "topics = set(data.unique(\"topic\"))\n",
    "print(\"Nombre de labels:\", len(topics))\n",
    "print(\"Exemples de labels:\", list(topics))"
   ]
  },
  {
   "cell_type": "markdown",
   "id": "39744724",
   "metadata": {},
   "source": [
    "### Formatting the dataset\n",
    "Here, we format the dataset keeping only the ‘Lecture’, ‘Hint’ and ‘Solution’ fields."
   ]
  },
  {
   "cell_type": "code",
   "execution_count": 7,
   "id": "68617c2c",
   "metadata": {},
   "outputs": [
    {
     "data": {
      "text/plain": [
       "{'input_text': \" Lecture:Experiments can be designed to answer specific questions. How can you identify the questions that a certain experiment can answer? In order to do this, you need to figure out what was tested and what was measured during the experiment.\\nImagine an experiment with two groups of daffodil plants. One group of plants was grown in sandy soil, and the other was grown in clay soil. Then, the height of each plant was measured.\\nFirst, identify the part of the experiment that was tested. The part of an experiment that is tested usually involves the part of the experimental setup that is different or changed. In the experiment described above, each group of plants was grown in a different type of soil. So, the effect of growing plants in different soil types was tested.\\nThen, identify the part of the experiment that was measured. The part of the experiment that is measured may include measurements and calculations. In the experiment described above, the heights of the plants in each group were measured.\\nExperiments can answer questions about how the part of the experiment that is tested affects the part that is measured. So, the experiment described above can answer questions about how soil type affects plant height.\\nExamples of questions that this experiment can answer include:\\nDoes soil type affect the height of daffodil plants?\\nDo daffodil plants in sandy soil grow taller than daffodil plants in clay soil?\\nAre daffodil plants grown in sandy soil shorter than daffodil plants grown in clay soil?\\nHint: The passage below describes an experiment. Read the passage and then follow the instructions below.\\n\\nTom placed a ping pong ball in a catapult, pulled the catapult's arm back to a 45° angle, and launched the ball. Then, Tom launched another ping pong ball, this time pulling the catapult's arm back to a 30° angle. With each launch, his friend Justin measured the distance between the catapult and the place where the ball hit the ground. Tom and Justin repeated the launches with ping pong balls in four more identical catapults. They compared the distances the balls traveled when launched from a 45° angle to the distances the balls traveled when launched from a 30° angle.\\nFigure: a catapult for launching ping pong balls.\\nSolution: \",\n",
       " 'label': 'science-and-engineering-practices'}"
      ]
     },
     "execution_count": 7,
     "metadata": {},
     "output_type": "execute_result"
    }
   ],
   "source": [
    "def format_example(example):\n",
    "    return {\n",
    "        \"input_text\": f\" Lecture:{example['lecture']}\\nHint: {example['hint']}\\nSolution: {example['solution']}\",\n",
    "        \"label\": example[\"topic\"]\n",
    "    }\n",
    "\n",
    "formatted_data = [format_example(example) for example in data if example[\"lecture\"] and example[\"hint\"]]\n",
    "formatted_data[0]"
   ]
  },
  {
   "cell_type": "markdown",
   "id": "a24f0720",
   "metadata": {},
   "source": [
    "## Zero shot\n",
    "Let's start with the zero shot, which consists simply of asking the model to take its time and think when it produces its output.\n",
    "\n",
    "The prompt given to models is the following :\n",
    "\n",
    "\n",
    "*Let's think step-by-step to determine the topic.*\n",
    "*Available topics: vocabulary, punctuation, physics, earth-science, literacy-in-science, culture, verbs, reference-skills, chemistry, biology, pronouns, capitalization, us-history, word-study, writing-strategies, economics, figurative-language, reading-comprehension, phonological-awareness, units-and-measurement, science-and-engineering-practices, global-studies, geography, world-history, civics, grammar*\n",
    "\n",
    "*Given the following text, identify the most appropriate topic from the list above.*\n",
    "\n",
    "*Text:*\n",
    "*\" Lecture:The temperature of a substance depends on the average kinetic energy of the particles in the substance. The higher the average kinetic energy of the particles, the higher the temperature of the substance.*\n",
    "*The kinetic energy of a particle is determined by its mass and speed. For a pure substance, the greater the mass of each particle in the substance and the higher the average speed of the particles, the higher their average kinetic energy.*\n",
    "*Hint: The diagrams below show two pure samples of gas in identical closed, rigid containers. Each colored ball represents one gas particle. Both samples have the same number of particles.*\n",
    "*Solution: The particles in both samples have the same average speed, but each particle in sample B has more mass than each particle in sample A. So, the particles in sample B have a higher average kinetic energy than the particles in sample A.*\n",
    "*Because the particles in sample B have the higher average kinetic energy, sample B must have the higher temperature.\"\n",
    "\n",
    "*Reasoning:*\n"
   ]
  },
  {
   "cell_type": "code",
   "execution_count": 8,
   "id": "33a30d4b",
   "metadata": {},
   "outputs": [],
   "source": [
    "def predict_zero_shot(input_text, tokenizer, model, topics):\n",
    "    prompt = (\n",
    "        \"Let's think step-by-step to determine the topic.\\n\"\n",
    "        f\"Available topics: {', '.join(topics)}\\n\\n\"\n",
    "        \"Given the following text, identify the most appropriate topic from the list above.\\n\\n\"\n",
    "        f\"Text:\\n\\\"{input_text}\\\"\\n\\n\"\n",
    "        \"Reasoning:\"\n",
    "    )\n",
    "    inputs = tokenizer(prompt, return_tensors=\"pt\", truncation=True).to(device)\n",
    "    outputs = model.generate(**inputs, max_new_tokens=30)  # 30 tokens to allow reasoning + answer\n",
    "    prediction = tokenizer.decode(outputs[0], skip_special_tokens=True).lower().strip()\n",
    "    return prediction"
   ]
  },
  {
   "cell_type": "markdown",
   "id": "cd0a4c85",
   "metadata": {},
   "source": [
    "Here is some example with the T5 FLAN model :"
   ]
  },
  {
   "cell_type": "code",
   "execution_count": 10,
   "id": "a5f213cc",
   "metadata": {},
   "outputs": [
    {
     "name": "stdout",
     "output_type": "stream",
     "text": [
      "prediction 0\n",
      "physics\n",
      "science-and-engineering-practices\n",
      "prediction 1\n",
      "figurative-language\n",
      "science-and-engineering-practices\n",
      "prediction 2\n",
      "biology\n",
      "biology\n",
      "prediction 3\n",
      "physics\n",
      "physics\n",
      "prediction 4\n",
      "biology\n",
      "biology\n"
     ]
    }
   ],
   "source": [
    "i=0\n",
    "for a in range(5):\n",
    "    pred = predict_zero_shot(formatted_data[a][\"input_text\"],t5_tokenizer,t5_model,topics)\n",
    "    print(f\"prediction\",i)\n",
    "    print(pred)\n",
    "    print(formatted_data[a][\"label\"])\n",
    "    i+=1"
   ]
  },
  {
   "cell_type": "code",
   "execution_count": 14,
   "id": "a15872ea",
   "metadata": {},
   "outputs": [],
   "source": [
    "from sklearn.metrics import accuracy_score\n",
    "import random\n",
    "from tqdm import tqdm"
   ]
  },
  {
   "cell_type": "markdown",
   "id": "b1f66fdf",
   "metadata": {},
   "source": [
    "Let's create a function to run multiple time the *predict_zero_shot* function and compute accuracy"
   ]
  },
  {
   "cell_type": "code",
   "execution_count": 12,
   "id": "9b6fb107",
   "metadata": {},
   "outputs": [],
   "source": [
    "def predict_many_zero_shots(tokenizer, model, topics,formatted_data, number=1):\n",
    "    predictions = []\n",
    "    ground_truths = []\n",
    "    sampled_data = random.sample(formatted_data, number)\n",
    "\n",
    "    for example in tqdm(sampled_data, desc=\"Predicting topics\"):\n",
    "        \n",
    "\n",
    "        pred = predict_zero_shot(example[\"input_text\"], tokenizer, model, topics)\n",
    "\n",
    "        pred_clean = next((t for t in topics if t in pred), \"unknown\")\n",
    "\n",
    "        predictions.append(pred_clean.lower().strip())\n",
    "        ground_truths.append(example[\"label\"].lower().strip())\n",
    "\n",
    "    return predictions, ground_truths\n",
    "    \n",
    "    "
   ]
  },
  {
   "cell_type": "markdown",
   "id": "b72c6637",
   "metadata": {},
   "source": [
    "Accuracy of T5 FLAN model :"
   ]
  },
  {
   "cell_type": "code",
   "execution_count": 13,
   "id": "ef1b4866",
   "metadata": {},
   "outputs": [
    {
     "name": "stderr",
     "output_type": "stream",
     "text": [
      "Predicting topics: 100%|██████████| 50/50 [10:20<00:00, 12.41s/it]"
     ]
    },
    {
     "name": "stdout",
     "output_type": "stream",
     "text": [
      "\n",
      "Accuracy (zero-shot, 50 exemples) : 90.00%\n"
     ]
    },
    {
     "name": "stderr",
     "output_type": "stream",
     "text": [
      "\n"
     ]
    }
   ],
   "source": [
    "preds, trues = predict_many_zero_shots(t5_tokenizer, t5_model, topics, formatted_data, number=50)\n",
    "\n",
    "acc_zero_t5 = accuracy_score(trues, preds)\n",
    "print(f\"\\nAccuracy (zero-shot, {len(preds)} exemples) : {acc_zero_t5*100:.2f}%\")"
   ]
  },
  {
   "cell_type": "markdown",
   "id": "fdb6bd3e",
   "metadata": {},
   "source": [
    "## One and Few Shots\n",
    "The One or Few Shots Learning consist to add one or few exemple in the promt to better guide the LLM in the task he is assign to.\n",
    "\n",
    "Here is an example of a few shot learning prompt with 2 examples :\n",
    "\n",
    "*You are an expert at classifying text into specific topics. The available topics are: pronouns, figurative-language, verbs, us-history, phonological-awareness, global-studies, earth-science, grammar, civics, reading-comprehension, units-and-measurement, vocabulary, writing-strategies, economics, capitalization, world-history, biology, culture, science-and-engineering-practices, literacy-in-science, physics, reference-skills, geography, chemistry, punctuation, word-study.*\n",
    "\n",
    "*Your task is to read the input text, think through the content step by step, and determine the most appropriate topic from the list.*\n",
    "\n",
    "*Here are some examples:*\n",
    "\n",
    "*### Example 1 ###*\n",
    "\n",
    "*Text: \" Lecture:Experiments can be designed to answer specific questions. How can you identify the questions that a certain experiment can answer? In order to do this, you need to figure out what was tested and what was measured during the experiment.*\n",
    "*Imagine an exp...\"*\n",
    "\n",
    "*Reasoning: Let's analyze the key themes and ideas. Based on the vocabulary and context, we identify the main subject. Hence, the most relevant topic is science-and-engineering-practices.*\n",
    "\n",
    "*Answer: science-and-engineering-practices*\n",
    "\n",
    "\n",
    "*### Example 2 ###*\n",
    "\n",
    "*Text: \" Lecture:A food web is a model.*\n",
    "*A food web shows where organisms in an ecosystem get their food. Models can make things in nature easier to understand because models can represent complex things in a simpler way. If a food web showed every organism in an ecos...\"*\n",
    "\n",
    "*Reasoning: Let's analyze the key themes and ideas. Based on the vocabulary and context, we identify the main subject. Hence, the most relevant topic is biology.*\n",
    "\n",
    "*Answer: biology*\n",
    "\n",
    "\n",
    "*### New Example ###*\n",
    "\n",
    "*Text: \" Lecture:Scientists sort animals with similar traits into groups. This is called classification. Classification helps scientists learn about how animals live.*\n",
    "*How do scientists classify animals? First, they make observations about an animal. Scientists observe the animal's traits, including its body parts and behavior. Then, scientists compare the animal's traits to other animals' traits. Scientists classify animals with similar traits into a group.*\n",
    "*Hint: Reptiles are a group of animals with similar traits. The following traits can be used to identify reptiles:*\n",
    "*They have scaly, waterproof skin.*\n",
    "*They make eggs with shells. Observe the animals and read the descriptions.*\n",
    "*Solution: To decide if an animal is part of a group, look at the traits of the group.*\n",
    "*...*\n",
    "*It has scaly, waterproof skin.*\n",
    "*It makes eggs with shells.*\n",
    "*A box turtle has the traits of a reptile. A box turtle is a reptile.\"*\n",
    "\n",
    "*Reasoning: Let's analyze the key themes and ideas.*\n"
   ]
  },
  {
   "cell_type": "markdown",
   "id": "c9ec5782",
   "metadata": {},
   "source": [
    "We found that the prompt quickly became very, very large as the number of n_shots increased. The precision obtained for n_shots greater than 1 fell to around 20% (see just below). To counter this problem, we decided to truncate the examples by limiting them to 250 characters (see part **One and Few Shots with shorter example** below). In this way, the precision rose for n_shots greater or equal to 1.\n",
    "\n",
    "The prompt displayed above corresponds to the prompts with the truncated examples."
   ]
  },
  {
   "cell_type": "code",
   "execution_count": 8,
   "id": "e1b19763",
   "metadata": {},
   "outputs": [],
   "source": [
    "def predict_one_or_few_shots(input_text, tokenizer, model, topics,example_data,n_shots = 1):\n",
    "    prompt = (\n",
    "        \"You are an expert at classifying text into specific topics. \"\n",
    "        f\"The available topics are: {', '.join(topics)}.\\n\\n\"\n",
    "        \"Your task is to read the input text, think through the content step by step, \"\n",
    "        \"and determine the most appropriate topic from the list.\\n\\n\"\n",
    "        \"Here are some examples:\\n\\n\"\n",
    "    )\n",
    "\n",
    "    for i, ex in enumerate(example_data[:n_shots]):\n",
    "        ex_text = ex[\"input_text\"]\n",
    "        ex_label = ex[\"label\"]\n",
    "\n",
    "        prompt += (\n",
    "            f\"### Example {i+1} ###\\n\"\n",
    "            f\"Text: \\\"{ex_text}\\\"\\n\"\n",
    "            \"Reasoning: Let's analyze the key themes and ideas. \"\n",
    "            \"Based on the vocabulary and context, we identify the main subject. \"\n",
    "            f\"Hence, the most relevant topic is {ex_label}.\\n\"\n",
    "            f\"Answer: {ex_label}\\n\\n\"\n",
    "        )\n",
    "\n",
    "    prompt += (\n",
    "        \"### New Example ###\\n\"\n",
    "        f\"Text: \\\"{input_text}\\\"\\n\"\n",
    "        \"Reasoning: Let's analyze the key themes and ideas. \"\n",
    "    )\n",
    "    #print(prompt)\n",
    "    inputs = tokenizer(prompt, return_tensors=\"pt\", truncation=True).to(device)\n",
    "    outputs = model.generate(**inputs, max_new_tokens=50)  \n",
    "    prediction = tokenizer.decode(outputs[0], skip_special_tokens=True).lower().strip()\n",
    "    return prediction"
   ]
  },
  {
   "cell_type": "markdown",
   "id": "6a0e76fe",
   "metadata": {},
   "source": [
    "Here is a function to execute many few shots learning many times."
   ]
  },
  {
   "cell_type": "code",
   "execution_count": 15,
   "id": "9fd3eed5",
   "metadata": {},
   "outputs": [],
   "source": [
    "def predict_many_one_or_few_shots(tokenizer, model, topics,formatted_data, number=1,n_shots = 1):\n",
    "    predictions = []\n",
    "    ground_truths = []\n",
    "    sampled_data = random.sample(formatted_data, number)\n",
    "\n",
    "    for example in tqdm(sampled_data, desc=\"Predicting topics\"):\n",
    "        \n",
    "        sampled = random.sample(formatted_data, n_shots + 1)\n",
    "        example_data = sampled[:n_shots]\n",
    "        test_example = sampled[-1]\n",
    "\n",
    "        input_text = test_example[\"input_text\"]\n",
    "        true_label = test_example[\"label\"]\n",
    "\n",
    "        pred = predict_one_or_few_shots(input_text, tokenizer, model, topics, example_data, n_shots=n_shots)\n",
    "        pred_clean = next((t for t in topics if t in pred), \"unknown\")\n",
    "\n",
    "        predictions.append(pred_clean.lower().strip())\n",
    "        ground_truths.append(true_label.lower().strip())\n",
    "\n",
    "    return predictions, ground_truths"
   ]
  },
  {
   "cell_type": "markdown",
   "id": "988fc88f",
   "metadata": {},
   "source": [
    "Here is the function to compute the accuracy of the Few Shot Learning :"
   ]
  },
  {
   "cell_type": "code",
   "execution_count": 9,
   "id": "23b4a6a6",
   "metadata": {},
   "outputs": [],
   "source": [
    "import matplotlib.pyplot as plt"
   ]
  },
  {
   "cell_type": "code",
   "execution_count": 18,
   "id": "d6b9cdbb",
   "metadata": {},
   "outputs": [],
   "source": [
    "def evaluate_few_shot_accuracy(tokenizer, model, topics, formatted_data, max_shots=5, n_tests=50):\n",
    "    shot_values = list(range(1, max_shots + 1))\n",
    "    accuracies = []\n",
    "\n",
    "    for n_shots in shot_values:\n",
    "        print(f\"Testing with {n_shots} shot(s)...\")\n",
    "        preds, labels = predict_many_one_or_few_shots(\n",
    "            tokenizer=tokenizer,\n",
    "            model=model,\n",
    "            topics=topics,\n",
    "            formatted_data=formatted_data,\n",
    "            number=n_tests,\n",
    "            n_shots=n_shots\n",
    "        )\n",
    "\n",
    "        acc = accuracy_score(labels, preds)\n",
    "        accuracies.append(acc)\n",
    "\n",
    "    return shot_values, accuracies"
   ]
  },
  {
   "cell_type": "code",
   "execution_count": 19,
   "id": "449e40e0",
   "metadata": {},
   "outputs": [
    {
     "name": "stdout",
     "output_type": "stream",
     "text": [
      "Testing with 1 shot(s)...\n"
     ]
    },
    {
     "name": "stderr",
     "output_type": "stream",
     "text": [
      "Predicting topics: 100%|██████████| 50/50 [13:58<00:00, 16.77s/it]\n"
     ]
    },
    {
     "name": "stdout",
     "output_type": "stream",
     "text": [
      "Testing with 2 shot(s)...\n"
     ]
    },
    {
     "name": "stderr",
     "output_type": "stream",
     "text": [
      "Predicting topics: 100%|██████████| 50/50 [13:54<00:00, 16.69s/it]\n"
     ]
    },
    {
     "name": "stdout",
     "output_type": "stream",
     "text": [
      "Testing with 3 shot(s)...\n"
     ]
    },
    {
     "name": "stderr",
     "output_type": "stream",
     "text": [
      "Predicting topics: 100%|██████████| 50/50 [18:23<00:00, 22.07s/it]\n"
     ]
    },
    {
     "name": "stdout",
     "output_type": "stream",
     "text": [
      "Testing with 4 shot(s)...\n"
     ]
    },
    {
     "name": "stderr",
     "output_type": "stream",
     "text": [
      "Predicting topics: 100%|██████████| 50/50 [19:59<00:00, 23.98s/it]\n"
     ]
    },
    {
     "name": "stdout",
     "output_type": "stream",
     "text": [
      "Testing with 5 shot(s)...\n"
     ]
    },
    {
     "name": "stderr",
     "output_type": "stream",
     "text": [
      "Predicting topics: 100%|██████████| 50/50 [17:27<00:00, 20.96s/it]\n"
     ]
    }
   ],
   "source": [
    "shot_vals, acc_vals = evaluate_few_shot_accuracy(\n",
    "    tokenizer=t5_tokenizer,\n",
    "    model=t5_model,\n",
    "    topics=topics,\n",
    "    formatted_data=formatted_data,\n",
    "    max_shots=5,      \n",
    "    n_tests=50\n",
    ")"
   ]
  },
  {
   "cell_type": "code",
   "execution_count": 20,
   "id": "718478c1",
   "metadata": {},
   "outputs": [
    {
     "data": {
      "image/png": "[encoded data removed]",
      "text/plain": [
       "<Figure size 1000x600 with 1 Axes>"
      ]
     },
     "metadata": {},
     "output_type": "display_data"
    }
   ],
   "source": [
    "all_shots = [0] + shot_vals\n",
    "accs_model1_full = [acc_zero_t5] + acc_vals\n",
    "\n",
    "plt.figure(figsize=(10, 6))\n",
    "plt.plot(all_shots, accs_model1_full, marker='o', label=\"google flan-t5 large\")\n",
    "\n",
    "plt.title(\"Accuracy vs Number of Few-Shot Examples\")\n",
    "plt.xlabel(\"Number of Few-Shot Examples (n_shots)\")\n",
    "plt.ylabel(\"Accuracy\")\n",
    "plt.xticks(all_shots)\n",
    "plt.ylim(0, 1.0)\n",
    "plt.grid(True)\n",
    "plt.legend()\n",
    "plt.show()"
   ]
  },
  {
   "cell_type": "markdown",
   "id": "c4791948",
   "metadata": {},
   "source": [
    "One shot learning is only around 60% of accuracy, and when the number of shots is even greater the accuracy is around 20 percent. So now, let's try with a shorter promt."
   ]
  },
  {
   "cell_type": "markdown",
   "id": "17b175a1",
   "metadata": {},
   "source": [
    "## One and Few Shots with shorter example\n",
    "As explained before, in this part we truncated the example in order to have smaller promt for the LLM to perform better. The example are truncated to 250 caracters and we add \"...\" at the end of the example."
   ]
  },
  {
   "cell_type": "code",
   "execution_count": 10,
   "id": "d159bcc4",
   "metadata": {},
   "outputs": [
    {
     "data": {
      "text/plain": [
       "{'input_text': ' Lecture:Experiments can be designed to answer specific questions. How can you identify the questions that a certain experiment can answer? In order to do this, you need to figure out what was tested and what was measured during the experiment.\\nImagine an exp...',\n",
       " 'label': 'science-and-engineering-practices'}"
      ]
     },
     "execution_count": 10,
     "metadata": {},
     "output_type": "execute_result"
    }
   ],
   "source": [
    "def format_short_example(example):\n",
    "    lecture = example['lecture']\n",
    "    short_lecture = lecture[:250] + \"...\" if len(lecture) > 253 else lecture\n",
    "    return {\n",
    "        \"input_text\": f\" Lecture:{short_lecture}\",\n",
    "        \"label\": example[\"topic\"]\n",
    "    }\n",
    "\n",
    "short_formatted_data = [format_short_example(example) for example in data if example[\"lecture\"] and example[\"hint\"]]\n",
    "short_formatted_data[0]"
   ]
  },
  {
   "cell_type": "code",
   "execution_count": 11,
   "id": "8ea29ac6",
   "metadata": {},
   "outputs": [],
   "source": [
    "def new_predict_many_one_or_few_shots(tokenizer, model, topics,input_data,example_data, number=1,n_shots = 1):\n",
    "    predictions = []\n",
    "    ground_truths = []\n",
    "    sampled_data = random.sample(input_data, number)\n",
    "\n",
    "    for example in tqdm(sampled_data, desc=\"Predicting topics\"):\n",
    "        few_shot_example = random.sample(example_data, n_shots)\n",
    "\n",
    "        input_text = example[\"input_text\"]\n",
    "        true_label = example[\"label\"]\n",
    "\n",
    "        pred = predict_one_or_few_shots(input_text, tokenizer, model, topics, few_shot_example, n_shots=n_shots)\n",
    "        pred_clean = next((t for t in topics if t in pred), \"unknown\")\n",
    "\n",
    "        predictions.append(pred_clean.lower().strip())\n",
    "        ground_truths.append(true_label.lower().strip())\n",
    "\n",
    "    return predictions, ground_truths"
   ]
  },
  {
   "cell_type": "code",
   "execution_count": 12,
   "id": "dad04872",
   "metadata": {},
   "outputs": [],
   "source": [
    "def new_evaluate_few_shot_accuracy(tokenizer, model, topics,input_data, example_data, max_shots=5, n_tests=50):\n",
    "    shot_values = list(range(1, max_shots + 1))\n",
    "    accuracies = []\n",
    "\n",
    "    for n_shots in shot_values:\n",
    "        print(f\"Testing with {n_shots} shot(s)...\")\n",
    "        preds, labels = new_predict_many_one_or_few_shots(\n",
    "            tokenizer=tokenizer,\n",
    "            model=model,\n",
    "            topics=topics,\n",
    "            input_data=input_data,\n",
    "            example_data=example_data,\n",
    "            number=n_tests,\n",
    "            n_shots=n_shots\n",
    "        )\n",
    "\n",
    "        acc = accuracy_score(labels, preds)\n",
    "        accuracies.append(acc)\n",
    "\n",
    "    return shot_values, accuracies"
   ]
  },
  {
   "cell_type": "code",
   "execution_count": 16,
   "id": "161d594e",
   "metadata": {},
   "outputs": [
    {
     "name": "stdout",
     "output_type": "stream",
     "text": [
      "Testing with 1 shot(s)...\n"
     ]
    },
    {
     "name": "stderr",
     "output_type": "stream",
     "text": [
      "Predicting topics: 100%|██████████| 50/50 [14:31<00:00, 17.42s/it]\n"
     ]
    },
    {
     "name": "stdout",
     "output_type": "stream",
     "text": [
      "Testing with 2 shot(s)...\n"
     ]
    },
    {
     "name": "stderr",
     "output_type": "stream",
     "text": [
      "Predicting topics: 100%|██████████| 50/50 [15:19<00:00, 18.39s/it]\n"
     ]
    },
    {
     "name": "stdout",
     "output_type": "stream",
     "text": [
      "Testing with 3 shot(s)...\n"
     ]
    },
    {
     "name": "stderr",
     "output_type": "stream",
     "text": [
      "Predicting topics: 100%|██████████| 50/50 [15:36<00:00, 18.72s/it]\n"
     ]
    },
    {
     "name": "stdout",
     "output_type": "stream",
     "text": [
      "Testing with 4 shot(s)...\n"
     ]
    },
    {
     "name": "stderr",
     "output_type": "stream",
     "text": [
      "Predicting topics: 100%|██████████| 50/50 [15:09<00:00, 18.20s/it]\n"
     ]
    },
    {
     "name": "stdout",
     "output_type": "stream",
     "text": [
      "Testing with 5 shot(s)...\n"
     ]
    },
    {
     "name": "stderr",
     "output_type": "stream",
     "text": [
      "Predicting topics: 100%|██████████| 50/50 [14:39<00:00, 17.58s/it]\n"
     ]
    }
   ],
   "source": [
    "new_shot_vals, new_acc_vals = new_evaluate_few_shot_accuracy(\n",
    "    tokenizer=t5_tokenizer,\n",
    "    model=t5_model,\n",
    "    topics=topics,\n",
    "    input_data=formatted_data,\n",
    "    example_data=short_formatted_data,\n",
    "    max_shots=5,      \n",
    "    n_tests=50\n",
    ")"
   ]
  },
  {
   "cell_type": "code",
   "execution_count": 19,
   "id": "b8aef94f",
   "metadata": {},
   "outputs": [
    {
     "data": {
      "image/png": "[encoded data removed]",
      "text/plain": [
       "<Figure size 1000x600 with 1 Axes>"
      ]
     },
     "metadata": {},
     "output_type": "display_data"
    }
   ],
   "source": [
    "acc_zero_t5=0.9 #from above\n",
    "new_all_shots = [0] + new_shot_vals\n",
    "new_accs_model1_full = [acc_zero_t5] + new_acc_vals\n",
    "\n",
    "plt.figure(figsize=(10, 6))\n",
    "plt.plot(new_all_shots, new_accs_model1_full, marker='o', label=\"google flan-t5 large\")\n",
    "\n",
    "plt.title(\"Accuracy vs Number of Few-Shot Examples\")\n",
    "plt.xlabel(\"Number of Few-Shot Examples (n_shots)\")\n",
    "plt.ylabel(\"Accuracy\")\n",
    "plt.xticks(new_all_shots)\n",
    "plt.ylim(0, 1.0)\n",
    "plt.grid(True)\n",
    "plt.legend()\n",
    "plt.show()"
   ]
  },
  {
   "cell_type": "markdown",
   "id": "71f0d677",
   "metadata": {},
   "source": [
    "This is our final result about Zero, One and Few shots learning. The zero shot learning is performing well (90 % of accuracy). One and two shots learning are achieving the same level of accuracy as the zero shot learning. \n",
    "\n",
    "But when the number of shot is growing the accuracy of the prediction start to decrease up to 20% for n_shots = 5. The promt probably becomes too large from n_shots = 3 for the capacity of the LLM used, which could explain the drop in accuracy.\n"
   ]
  }
 ],
 "metadata": {
  "kernelspec": {
   "display_name": "env17",
   "language": "python",
   "name": "python3"
  },
  "language_info": {
   "codemirror_mode": {
    "name": "ipython",
    "version": 3
   },
   "file_extension": ".py",
   "mimetype": "text/x-python",
   "name": "python",
   "nbconvert_exporter": "python",
   "pygments_lexer": "ipython3",
   "version": "3.12.9"
  }
 },
 "nbformat": 4,
 "nbformat_minor": 5
}
